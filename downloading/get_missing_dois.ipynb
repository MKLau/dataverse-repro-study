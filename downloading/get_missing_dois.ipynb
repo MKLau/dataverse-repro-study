{
 "cells": [
  {
   "cell_type": "code",
   "execution_count": 1,
   "metadata": {},
   "outputs": [],
   "source": [
    "from helpers import *"
   ]
  },
  {
   "cell_type": "code",
   "execution_count": 2,
   "metadata": {},
   "outputs": [],
   "source": [
    "# some constants\n",
    "dataverse_key = \"3b0777ab-4af9-4b3a-971e-5c84ac75926b\""
   ]
  },
  {
   "cell_type": "markdown",
   "metadata": {},
   "source": [
    "# get list of r-script DOIs in Harvard dataverse"
   ]
  },
  {
   "cell_type": "code",
   "execution_count": 3,
   "metadata": {},
   "outputs": [
    {
     "name": "stdout",
     "output_type": "stream",
     "text": [
      "Requesting page 0 from API...\n",
      "Parsing results from page 0...\n",
      "Requesting page 1 from API...\n",
      "Parsing results from page 1...\n",
      "Requesting page 2 from API...\n",
      "Parsing results from page 2...\n",
      "Requesting page 3 from API...\n",
      "Parsing results from page 3...\n",
      "Requesting page 4 from API...\n",
      "Parsing results from page 4...\n",
      "Requesting page 5 from API...\n",
      "Parsing results from page 5...\n",
      "Reached last page of results. Done.\n",
      "Total Number of R Files: 5020\n"
     ]
    }
   ],
   "source": [
    "all_dois = get_r_dois(dataverse_key, save=True, print_status=True)"
   ]
  },
  {
   "cell_type": "code",
   "execution_count": 15,
   "metadata": {},
   "outputs": [
    {
     "data": {
      "text/plain": [
       "['doi:10.1162/isec_a_00321\"']"
      ]
     },
     "execution_count": 15,
     "metadata": {},
     "output_type": "execute_result"
    }
   ],
   "source": [
    "all_dois[:5]"
   ]
  },
  {
   "cell_type": "code",
   "execution_count": 16,
   "metadata": {},
   "outputs": [],
   "source": [
    "# write all dois\n",
    "with open(\"all_dois_02_28_18.txt\", 'w') as handle:\n",
    "    map(lambda doi: handle.write(doi + \"\\n\"), all_dois)"
   ]
  },
  {
   "cell_type": "code",
   "execution_count": 18,
   "metadata": {},
   "outputs": [
    {
     "data": {
      "text/plain": [
       "['doi:10.1162/isec_a_00321\"']"
      ]
     },
     "execution_count": 18,
     "metadata": {},
     "output_type": "execute_result"
    }
   ],
   "source": [
    "all_dois = []\n",
    "with open(\"r_dois.txt\", 'r') as handle:\n",
    "    all_dois = [doi.strip() for doi in handle.readlines()]\n",
    "    \n",
    "all_dois"
   ]
  },
  {
   "cell_type": "code",
   "execution_count": 7,
   "metadata": {},
   "outputs": [],
   "source": [
    "#if not os.path.exists(\"../RDatasets\"):\n",
    "#    os.makedirs(\"../RDatasets\")"
   ]
  },
  {
   "cell_type": "code",
   "execution_count": 19,
   "metadata": {},
   "outputs": [],
   "source": [
    "# get list of r-script dois currently downloaded in the last download operation\n",
    "downloaded = [directory_to_doi(doi) for doi in os.listdir(\"../RDatasets\")]"
   ]
  },
  {
   "cell_type": "code",
   "execution_count": 9,
   "metadata": {},
   "outputs": [],
   "source": [
    "missing_dois = list(set(all_dois) - set(downloaded))"
   ]
  },
  {
   "cell_type": "code",
   "execution_count": 10,
   "metadata": {},
   "outputs": [],
   "source": [
    "# write missing dois to file\n",
    "with open(\"missing_dois.txt\", 'w') as handle:\n",
    "    map(lambda doi: handle.write(doi + \"\\n\"), missing_dois)"
   ]
  },
  {
   "cell_type": "code",
   "execution_count": 12,
   "metadata": {},
   "outputs": [],
   "source": [
    "# create new file to store the directory names\n",
    "with open(\"downloaded_dois.txt\", 'w') as handle:\n",
    "    map(lambda doi: handle.write(doi + \"\\n\"), os.listdir(\"../RDatasets\"))"
   ]
  },
  {
   "cell_type": "code",
   "execution_count": null,
   "metadata": {},
   "outputs": [],
   "source": []
  }
 ],
 "metadata": {
  "kernelspec": {
   "display_name": "Python 2",
   "language": "python",
   "name": "python2"
  },
  "language_info": {
   "codemirror_mode": {
    "name": "ipython",
    "version": 2
   },
   "file_extension": ".py",
   "mimetype": "text/x-python",
   "name": "python",
   "nbconvert_exporter": "python",
   "pygments_lexer": "ipython2",
   "version": "2.7.15"
  }
 },
 "nbformat": 4,
 "nbformat_minor": 2
}
