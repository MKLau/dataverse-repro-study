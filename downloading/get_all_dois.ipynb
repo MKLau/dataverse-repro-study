{
 "cells": [
  {
   "cell_type": "markdown",
   "metadata": {},
   "source": [
    "# Get list of r-script DOIs in Harvard dataverse\n",
    "\n",
    "Get list of dois for all R files in a dataverse (defaulting to Harvard's)\n",
    "Parameters\n",
    "----------\n",
    "`dataverse_key` : string \n",
    "                containing user's dataverse API key\n",
    "                \n",
    "`save` : boolean\n",
    "       whether or not to save the result as a .txt file\n",
    "       \n",
    "`print_status` : boolean\n",
    "               whether or not to print status messages\n",
    "               \n",
    "`api_url` : string\n",
    "          url pointing to the dataverse to get URLs for\n",
    "          \n",
    "Returns\n",
    "-------\n",
    "`r_dois` : list of string\n",
    "         dois containing r_files in Harvard dataverse"
   ]
  },
  {
   "cell_type": "code",
   "execution_count": 49,
   "metadata": {},
   "outputs": [],
   "source": [
    "from helpers import *"
   ]
  },
  {
   "cell_type": "code",
   "execution_count": 50,
   "metadata": {},
   "outputs": [],
   "source": [
    "# some constants\n",
    "dataverse_key = \"2a301287-c8e8-43f5-9862-cf084b310341\"\n",
    "api_url=\"https://dataverse.harvard.edu/api/search/\"\n",
    "max_retries=5\n",
    "\n",
    "# defining some constants\n",
    "r_file_query = \"fileContentType:type/x-r-syntax\"\n",
    "\n",
    "# initialize variables to store current state of scraping\n",
    "page_num = 0\n",
    "r_dois = []\n",
    "failures = 0\n",
    "numfiles = 0\n",
    "\n",
    "save=True\n",
    "print_status=True"
   ]
  },
  {
   "cell_type": "markdown",
   "metadata": {},
   "source": [
    "## keep requesting until the API returns fewer than 1000 results"
   ]
  },
  {
   "cell_type": "code",
   "execution_count": 51,
   "metadata": {},
   "outputs": [
    {
     "name": "stdout",
     "output_type": "stream",
     "text": [
      "Requesting page 0 from API...\n",
      "Parsing results from page 0...\n",
      "Requesting page 1 from API...\n",
      "Parsing results from page 1...\n",
      "Requesting page 2 from API...\n",
      "Parsing results from page 2...\n",
      "Requesting page 3 from API...\n",
      "Parsing results from page 3...\n",
      "Requesting page 4 from API...\n",
      "Parsing results from page 4...\n",
      "Requesting page 5 from API...\n",
      "Parsing results from page 5...\n",
      "Reached last page of results. Done.\n",
      "Total Number of R Files: 5117\n"
     ]
    }
   ],
   "source": [
    "while True:\n",
    "    if print_status:\n",
    "            print(\"Requesting page {} from API...\".format(page_num))\n",
    "    try:\n",
    "            #query the API for 1000 results\n",
    "            myresults = requests.get(api_url,\n",
    "                                     params= {\"q\": r_file_query, \"type\": \"file\",\n",
    "                                              \"key\": dataverse_key, \"start\": str(1000 * page_num),\n",
    "                                              \"per_page\": str(1000)}).json()['data']['items']\n",
    "            if print_status:\n",
    "                print(\"Parsing results from page {}...\".format(page_num))\n",
    "            \n",
    "            # iterate through results, recording dataset_citations\n",
    "            for myresult in myresults:\n",
    "                # extract the DOI (if any) from the result\n",
    "                doi_match = re.search(\"(doi:[^,]*)\", myresult['dataset_persistent_id'])\n",
    "                if doi_match:\n",
    "                    r_dois.append(doi_match.group(1) + '\\n')\n",
    "    #retry if failed to pull data\n",
    "    except:\n",
    "        if print_status:\n",
    "            print(\"Failed to fetch results for page {}. {} retries left\".format(page_num,\n",
    "                                                                                max_retries - 1 - failures))\n",
    "        if failures < max_retries:\n",
    "            failures += 1\n",
    "            continue\n",
    "        else:\n",
    "            break\n",
    "\n",
    "    # if fewer than 1000 results were returned; we must have reached the end\n",
    "    if len(myresults) < 1000:\n",
    "        if print_status:\n",
    "            print(\"Reached last page of results. Done.\")\n",
    "            print(\"Total Number of R Files: {}\".format(numfiles + len(myresults)))\n",
    "        break\n",
    "    page_num += 1\n",
    "    numfiles += 1000"
   ]
  },
  {
   "cell_type": "markdown",
   "metadata": {},
   "source": [
    "Note: in the original study the number of R files was 3407 and now it's 5100+"
   ]
  },
  {
   "cell_type": "code",
   "execution_count": 52,
   "metadata": {},
   "outputs": [
    {
     "name": "stdout",
     "output_type": "stream",
     "text": [
      "[\n",
      "    {\n",
      "        \"checksum\": {\n",
      "            \"type\": \"MD5\", \n",
      "            \"value\": \"41b91113b80bd5dd464ec07ece317d03\"\n",
      "        }, \n",
      "        \"dataset_citation\": \"Paxton, Nathan A., 2016, \\\"Plague and war\\\", https://doi.org/10.7910/DVN/229VVX, Harvard Dataverse, V1, UNF:6:jIMobFnbhHha3AC8i8Y5jw== [fileUNF]\", \n",
      "        \"dataset_id\": \"56500\", \n",
      "        \"dataset_name\": \"Plague and war\", \n",
      "        \"dataset_persistent_id\": \"doi:10.7910/DVN/229VVX\", \n",
      "        \"file_content_type\": \"type/x-r-syntax\", \n",
      "        \"file_id\": \"2962698\", \n",
      "        \"file_type\": \"R Syntax\", \n",
      "        \"md5\": \"41b91113b80bd5dd464ec07ece317d03\", \n",
      "        \"name\": \"afhistdens.R\", \n",
      "        \"published_at\": \"2016-12-14T01:59:35Z\", \n",
      "        \"size_in_bytes\": 2379, \n",
      "        \"type\": \"file\", \n",
      "        \"url\": \"https://dataverse.harvard.edu/api/access/datafile/2962698\"\n",
      "    }, \n",
      "    {\n",
      "        \"checksum\": {\n",
      "            \"type\": \"MD5\", \n",
      "            \"value\": \"79db6f455a7478dc43c15928790846fa\"\n",
      "        }, \n",
      "        \"dataset_citation\": \"Paxton, Nathan A., 2016, \\\"Plague and war\\\", https://doi.org/10.7910/DVN/229VVX, Harvard Dataverse, V1, UNF:6:jIMobFnbhHha3AC8i8Y5jw== [fileUNF]\", \n",
      "        \"dataset_id\": \"56500\", \n",
      "        \"dataset_name\": \"Plague and war\", \n",
      "        \"dataset_persistent_id\": \"doi:10.7910/DVN/229VVX\", \n",
      "        \"file_content_type\": \"type/x-r-syntax\", \n",
      "        \"file_id\": \"2962700\", \n",
      "        \"file_type\": \"R Syntax\", \n",
      "        \"md5\": \"79db6f455a7478dc43c15928790846fa\", \n",
      "        \"name\": \"Estimate~year.R\", \n",
      "        \"published_at\": \"2016-12-14T01:59:35Z\", \n",
      "        \"size_in_bytes\": 3645, \n",
      "        \"type\": \"file\", \n",
      "        \"url\": \"https://dataverse.harvard.edu/api/access/datafile/2962700\"\n",
      "    }\n",
      "]\n"
     ]
    }
   ],
   "source": [
    "import json\n",
    "print(json.dumps(myresults[0:2], indent=4, sort_keys = True))"
   ]
  },
  {
   "cell_type": "code",
   "execution_count": 53,
   "metadata": {},
   "outputs": [
    {
     "data": {
      "text/plain": [
       "u'Paxton, Nathan A., 2016, \"Plague and war\", https://doi.org/10.7910/DVN/229VVX, Harvard Dataverse, V1, UNF:6:jIMobFnbhHha3AC8i8Y5jw== [fileUNF]'"
      ]
     },
     "execution_count": 53,
     "metadata": {},
     "output_type": "execute_result"
    }
   ],
   "source": [
    "myresults[1]['dataset_citation']"
   ]
  },
  {
   "cell_type": "code",
   "execution_count": 54,
   "metadata": {},
   "outputs": [
    {
     "name": "stdout",
     "output_type": "stream",
     "text": [
      "[u'doi:10.7910/DVN/28763\\n', u'doi:10.7910/DVN/27864\\n', u'doi:10.7910/DVN/27864\\n']\n"
     ]
    }
   ],
   "source": [
    "for myresult in myresults:\n",
    "    # extract the DOI (if any) from the result\n",
    "    doi_match = re.search(\"(doi:[^,]*)\", myresult['dataset_persistent_id'])\n",
    "    # print doi_match\n",
    "    if doi_match:\n",
    "        r_dois.append(doi_match.group(1) + '\\n')\n",
    "        \n",
    "print(r_dois[:3])  "
   ]
  },
  {
   "cell_type": "markdown",
   "metadata": {},
   "source": [
    "## remove duplicate DOIs"
   ]
  },
  {
   "cell_type": "code",
   "execution_count": 55,
   "metadata": {},
   "outputs": [
    {
     "name": "stdout",
     "output_type": "stream",
     "text": [
      "5170\n"
     ]
    }
   ],
   "source": [
    "print(len(r_dois))\n",
    "r_dois = list(set(r_dois))"
   ]
  },
  {
   "cell_type": "markdown",
   "metadata": {},
   "source": [
    "## if save, then save as .txt file "
   ]
  },
  {
   "cell_type": "code",
   "execution_count": 56,
   "metadata": {},
   "outputs": [],
   "source": [
    "if save:\n",
    "    # remove old output file if one exists\n",
    "    if os.path.exists('r_dois.txt'):   \n",
    "        os.remove('r_dois.txt')\n",
    "\n",
    "    # write dois to file, one-per-line\n",
    "    with open('r_dois.txt', 'a') as myfile:\n",
    "        for doi in r_dois:\n",
    "            myfile.write(doi)"
   ]
  },
  {
   "cell_type": "code",
   "execution_count": 57,
   "metadata": {},
   "outputs": [
    {
     "data": {
      "text/plain": [
       "[u'doi:10.7910/DVN/MWJHD2\\n',\n",
       " u'doi:10.7910/DVN/NDJFNZ\\n',\n",
       " u'doi:10.7910/DVN/JNEQYJ\\n',\n",
       " u'doi:10.7910/DVN/PASJJ8\\n',\n",
       " u'doi:10.7910/DVN/CRLKIF\\n']"
      ]
     },
     "execution_count": 57,
     "metadata": {},
     "output_type": "execute_result"
    }
   ],
   "source": [
    "r_dois[:5]"
   ]
  },
  {
   "cell_type": "code",
   "execution_count": 58,
   "metadata": {},
   "outputs": [
    {
     "data": {
      "text/plain": [
       "1360"
      ]
     },
     "execution_count": 58,
     "metadata": {},
     "output_type": "execute_result"
    }
   ],
   "source": [
    "len(r_dois)"
   ]
  },
  {
   "cell_type": "markdown",
   "metadata": {},
   "source": [
    "## convert to directory names"
   ]
  },
  {
   "cell_type": "code",
   "execution_count": 59,
   "metadata": {},
   "outputs": [],
   "source": [
    "all_doi_dirs = [doi_to_directory(doi.strip()) for doi in r_dois]"
   ]
  },
  {
   "cell_type": "code",
   "execution_count": 60,
   "metadata": {},
   "outputs": [
    {
     "data": {
      "text/plain": [
       "1360"
      ]
     },
     "execution_count": 60,
     "metadata": {},
     "output_type": "execute_result"
    }
   ],
   "source": [
    "# There are 846 datasets containing a total of 3406 R scripts\n",
    "len(r_dois)"
   ]
  },
  {
   "cell_type": "code",
   "execution_count": 62,
   "metadata": {},
   "outputs": [
    {
     "data": {
      "text/plain": [
       "[u'doi--10.7910-DVN-MWJHD2',\n",
       " u'doi--10.7910-DVN-NDJFNZ',\n",
       " u'doi--10.7910-DVN-JNEQYJ',\n",
       " u'doi--10.7910-DVN-PASJJ8',\n",
       " u'doi--10.7910-DVN-CRLKIF']"
      ]
     },
     "execution_count": 62,
     "metadata": {},
     "output_type": "execute_result"
    }
   ],
   "source": [
    "all_doi_dirs[:5]"
   ]
  },
  {
   "cell_type": "code",
   "execution_count": null,
   "metadata": {},
   "outputs": [],
   "source": []
  }
 ],
 "metadata": {
  "kernelspec": {
   "display_name": "Python 2",
   "language": "python",
   "name": "python2"
  },
  "language_info": {
   "codemirror_mode": {
    "name": "ipython",
    "version": 2
   },
   "file_extension": ".py",
   "mimetype": "text/x-python",
   "name": "python",
   "nbconvert_exporter": "python",
   "pygments_lexer": "ipython2",
   "version": "2.7.15"
  }
 },
 "nbformat": 4,
 "nbformat_minor": 2
}
