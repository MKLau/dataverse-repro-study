{
 "cells": [
  {
   "cell_type": "code",
   "execution_count": 1,
   "metadata": {},
   "outputs": [],
   "source": [
    "from helpers import *"
   ]
  },
  {
   "cell_type": "code",
   "execution_count": 2,
   "metadata": {},
   "outputs": [],
   "source": [
    "# some constants\n",
    "dataverse_key = \"2a301287-c8e8-43f5-9862-cf084b310341\""
   ]
  },
  {
   "cell_type": "code",
   "execution_count": 3,
   "metadata": {},
   "outputs": [
    {
     "name": "stdout",
     "output_type": "stream",
     "text": [
      "Requesting page 0 from API...\n",
      "Parsing results from page 0...\n",
      "Requesting page 1 from API...\n",
      "Parsing results from page 1...\n",
      "Requesting page 2 from API...\n",
      "Failed to fetch results for page 2. Retrying...\n",
      "Requesting page 2 from API...\n",
      "Parsing results from page 2...\n",
      "Requesting page 3 from API...\n",
      "Parsing results from page 3...\n",
      "Reached last page of results. Done.\n",
      "Total Number of R Files: 3407\n"
     ]
    }
   ],
   "source": [
    "# get list of r-script dois in Harvard dataverse\n",
    "all_dois = get_r_dois(dataverse_key, save=True, print_status=True)"
   ]
  },
  {
   "cell_type": "code",
   "execution_count": 4,
   "metadata": {},
   "outputs": [],
   "source": [
    "# convert to directory names\n",
    "all_doi_dirs = [doi_to_directory(doi.strip()) for doi in all_dois]"
   ]
  },
  {
   "cell_type": "code",
   "execution_count": 5,
   "metadata": {},
   "outputs": [
    {
     "data": {
      "text/plain": [
       "846"
      ]
     },
     "execution_count": 5,
     "metadata": {},
     "output_type": "execute_result"
    }
   ],
   "source": [
    "# There are 846 datasets containing a total of 3406 R scripts\n",
    "len(all_dois)"
   ]
  }
 ],
 "metadata": {
  "kernelspec": {
   "display_name": "Python 2",
   "language": "python2.7",
   "name": "python2"
  },
  "language_info": {
   "codemirror_mode": {
    "name": "ipython",
    "version": 3
   },
   "file_extension": ".py",
   "mimetype": "text/x-python",
   "name": "python",
   "nbconvert_exporter": "python",
   "pygments_lexer": "ipython3",
   "version": "3.6.4"
  }
 },
 "nbformat": 4,
 "nbformat_minor": 2
}
