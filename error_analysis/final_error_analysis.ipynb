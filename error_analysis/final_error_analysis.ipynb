{
 "cells": [
  {
   "cell_type": "markdown",
   "metadata": {},
   "source": [
    "## Load in, pre-process, and clean the execution results"
   ]
  },
  {
   "cell_type": "code",
   "execution_count": 187,
   "metadata": {},
   "outputs": [],
   "source": [
    "import os\n",
    "import re\n",
    "import pickle\n",
    "\n",
    "import matplotlib.pyplot as plt\n",
    "from tqdm import tqdm as tqdm\n",
    "from helpers import doi_to_directory\n",
    "import pandas as pd\n",
    "import numpy as np\n",
    "import seaborn as sns\n",
    "%matplotlib inline"
   ]
  },
  {
   "cell_type": "code",
   "execution_count": 188,
   "metadata": {},
   "outputs": [],
   "source": [
    "# combine data sources\n",
    "my_df = pd.read_csv(\"final_run_2/master_run_log.csv\")"
   ]
  },
  {
   "cell_type": "code",
   "execution_count": 189,
   "metadata": {},
   "outputs": [],
   "source": [
    "# helper functions to extract the original file names to allow better grouping\n",
    "def extract_filename(file_string):\n",
    "    return re.sub('__preproc__', '', '.'.join(file_string.split('.')[:-1]))\n",
    "\n",
    "def extract_doi(doi_path):\n",
    "    return doi_path.split(\"/\")[-1]\n",
    "\n",
    "def unique_name(row):\n",
    "    return extract_doi(row['doi']) + '/' + extract_filename(row[\"filename\"])\n",
    "\n",
    "def doi_without_path(row):\n",
    "    return extract_doi(row['doi'])\n",
    "\n",
    "# add helpful columns to dataframe to facilitate analysis\n",
    "my_df['is_error'] = ~(my_df['error'] == 'success')\n",
    "my_df['is_preproc'] = my_df['filename'].str.contains(\"__preproc__\")\n",
    "my_df[\"unique_name\"] = my_df.apply(unique_name, axis=1)\n",
    "my_df['doi'] = my_df.apply(doi_without_path, axis=1)\n",
    "my_df[\"is_library_error\"] = my_df[\"error\"].str.contains(\"library\\s*\\(\")\n",
    "my_df['is_wd_error'] = my_df['error'].str.contains('setwd\\s*\\(')\n",
    "my_df['is_mirror_error'] = my_df['error'].str.contains('without setting a mirror')\n",
    "my_df['is_file_error'] = (my_df['error'].str.contains('file\\s*\\(') |\\\n",
    "                          my_df['error'].str.contains('cannot open the connection') |\\\n",
    "                          my_df['error'].str.contains('No such file')) &\\\n",
    "                         ~my_df[\"is_library_error\"] &\\\n",
    "                         ~my_df['is_wd_error']\n"
   ]
  },
  {
   "cell_type": "code",
   "execution_count": 190,
   "metadata": {},
   "outputs": [],
   "source": [
    "# retrieve create dates from pickle file\n",
    "with open('doi_to_create_date.pkl', 'rb') as handle:\n",
    "    doi_to_create_date = pickle.load(handle)\n",
    "# convert dois to directory forml\n",
    "doi_to_create_date = {doi_to_directory(doi) : date for doi, date in doi_to_create_date.items()}"
   ]
  },
  {
   "cell_type": "code",
   "execution_count": 191,
   "metadata": {},
   "outputs": [],
   "source": [
    "# map the dois to their create dates\n",
    "my_df['create_date'] = pd.to_datetime(my_df['doi'].map(doi_to_create_date))\n",
    "my_df['create_year'] = my_df['create_date'].apply(lambda x: x.year)"
   ]
  },
  {
   "cell_type": "code",
   "execution_count": 192,
   "metadata": {},
   "outputs": [],
   "source": [
    "# Adding the subject data to each doi\n",
    "with open('doi_to_subject.pkl', 'rb') as handle:\n",
    "    doi_to_subject = pickle.load(handle)\n",
    "\n",
    "# convert the doi to the same format\n",
    "doi_to_subject = {doi_to_directory(doi) : subject for doi, subject in doi_to_subject.items()}\n",
    "\n",
    "# get list of unique subjects\n",
    "subject_set = set()\n",
    "for subjects in doi_to_subject.values():\n",
    "    subject_set.update(set(subjects))\n",
    "\n",
    "# initialize empty dataframe\n",
    "subject_df = pd.DataFrame()\n",
    "subject_df['doi'] = pd.Series()\n",
    "for subject in subject_set:\n",
    "    subject_df[subject] = pd.Series()\n",
    "\n",
    "# add on the per-doi subject data\n",
    "for doi, subjects in doi_to_subject.items():\n",
    "    row_dict = {}\n",
    "    row_dict['doi'] = doi\n",
    "    for subject in subject_set:\n",
    "        row_dict[subject] = 1 if subject in subjects else 0\n",
    "    subject_df = subject_df.append(row_dict, ignore_index=True)"
   ]
  },
  {
   "cell_type": "code",
   "execution_count": 193,
   "metadata": {},
   "outputs": [],
   "source": [
    "my_df = my_df.join(subject_df.set_index('doi'), on=[\"doi\"], how='inner')"
   ]
  },
  {
   "cell_type": "markdown",
   "metadata": {},
   "source": [
    "# Getting the incomplete datasets for pre-processing and Vanilla\n",
    "We will ignore the incomplete datasets for vanilla, but count the ones for preprocessing, since we only care about whether or not preprocessing improved on files which originally threw errors "
   ]
  },
  {
   "cell_type": "code",
   "execution_count": 194,
   "metadata": {},
   "outputs": [],
   "source": [
    "# combine data sources\n",
    "vanilla_errs = []\n",
    "with open('final_run_2/vanilla_std_err.txt', 'r') as vanilla_std_err:\n",
    "    last_doi = ''\n",
    "    for line in vanilla_std_err.readlines():\n",
    "        if line.strip():\n",
    "            if line.startswith('doi--'):\n",
    "                last_doi = line.strip()\n",
    "            elif last_doi:\n",
    "                vanilla_errs.append(last_doi)\n",
    "\n",
    "vanilla_errs = set(vanilla_errs)\n",
    "\n",
    "# combine data sources\n",
    "preproc_errs = []\n",
    "with open('final_run_2/preproc_std_err.txt', 'r') as preproc_std_err:\n",
    "    last_doi = ''\n",
    "    for line in preproc_std_err.readlines():\n",
    "        if line.strip():\n",
    "            if line.startswith('doi--'):\n",
    "                last_doi = line.strip()\n",
    "            elif last_doi:\n",
    "                preproc_errs.append(last_doi)\n",
    "\n",
    "preproc_errs = set(preproc_errs)"
   ]
  },
  {
   "cell_type": "code",
   "execution_count": 285,
   "metadata": {},
   "outputs": [],
   "source": [
    "# filter out dois that errored out for vanilla\n",
    "my_df = my_df[~my_df['doi'].isin(vanilla_errs)]"
   ]
  },
  {
   "cell_type": "code",
   "execution_count": 286,
   "metadata": {},
   "outputs": [
    {
     "data": {
      "text/plain": [
       "(11009, 26)"
      ]
     },
     "execution_count": 286,
     "metadata": {},
     "output_type": "execute_result"
    }
   ],
   "source": [
    "my_df.shape"
   ]
  },
  {
   "cell_type": "code",
   "execution_count": 287,
   "metadata": {},
   "outputs": [
    {
     "data": {
      "text/plain": [
       "750"
      ]
     },
     "execution_count": 287,
     "metadata": {},
     "output_type": "execute_result"
    }
   ],
   "source": [
    "len(my_df['doi'].unique())"
   ]
  },
  {
   "cell_type": "markdown",
   "metadata": {},
   "source": [
    "## Which DOIs did we miss?"
   ]
  },
  {
   "cell_type": "code",
   "execution_count": 198,
   "metadata": {},
   "outputs": [],
   "source": [
    "# combine data sources\n",
    "download_errs = []\n",
    "with open('final_run/final_download_errors.txt', 'r') as final_download_std_err:\n",
    "    last_doi = ''\n",
    "    for line in final_download_std_err.readlines():\n",
    "        if line.strip():\n",
    "            if line.startswith('doi:'):\n",
    "                last_doi = line.strip()\n",
    "            elif last_doi:\n",
    "                download_errs.append(last_doi)"
   ]
  },
  {
   "cell_type": "code",
   "execution_count": 199,
   "metadata": {},
   "outputs": [],
   "source": [
    "missed_dois = []\n",
    "reached_dois = set(my_df['doi'].unique())\n",
    "with open('r_dois.txt', 'r') as all_dois:\n",
    "    for line in all_dois.readlines():\n",
    "        line = doi_to_directory(line.strip())\n",
    "        if line not in reached_dois:\n",
    "            missed_dois.append(line)"
   ]
  },
  {
   "cell_type": "code",
   "execution_count": 200,
   "metadata": {},
   "outputs": [
    {
     "data": {
      "text/plain": [
       "36"
      ]
     },
     "execution_count": 200,
     "metadata": {},
     "output_type": "execute_result"
    }
   ],
   "source": [
    "len(download_errs)"
   ]
  },
  {
   "cell_type": "code",
   "execution_count": 201,
   "metadata": {},
   "outputs": [
    {
     "data": {
      "text/plain": [
       "96"
      ]
     },
     "execution_count": 201,
     "metadata": {},
     "output_type": "execute_result"
    }
   ],
   "source": [
    "len(missed_dois)"
   ]
  },
  {
   "cell_type": "code",
   "execution_count": 202,
   "metadata": {},
   "outputs": [
    {
     "data": {
      "text/plain": [
       "750"
      ]
     },
     "execution_count": 202,
     "metadata": {},
     "output_type": "execute_result"
    }
   ],
   "source": [
    "len(set(my_df['doi']))"
   ]
  },
  {
   "cell_type": "markdown",
   "metadata": {},
   "source": [
    "## Base stats for trying to run the original scripts"
   ]
  },
  {
   "cell_type": "code",
   "execution_count": 204,
   "metadata": {},
   "outputs": [],
   "source": [
    "vanilla_df = my_df[(~my_df['is_preproc']) & (my_df['run_type'] == \"source\")]"
   ]
  },
  {
   "cell_type": "code",
   "execution_count": 205,
   "metadata": {},
   "outputs": [
    {
     "data": {
      "text/plain": [
       "2839"
      ]
     },
     "execution_count": 205,
     "metadata": {},
     "output_type": "execute_result"
    }
   ],
   "source": [
    "len(vanilla_df['unique_name'].unique())"
   ]
  },
  {
   "cell_type": "code",
   "execution_count": 206,
   "metadata": {},
   "outputs": [
    {
     "data": {
      "text/plain": [
       "747"
      ]
     },
     "execution_count": 206,
     "metadata": {},
     "output_type": "execute_result"
    }
   ],
   "source": [
    "len(vanilla_df['doi'].unique())"
   ]
  },
  {
   "cell_type": "code",
   "execution_count": 207,
   "metadata": {},
   "outputs": [
    {
     "name": "stderr",
     "output_type": "stream",
     "text": [
      "/usr/local/lib/python3.6/site-packages/ipykernel_launcher.py:1: SettingWithCopyWarning: \n",
      "A value is trying to be set on a copy of a slice from a DataFrame\n",
      "\n",
      "See the caveats in the documentation: http://pandas.pydata.org/pandas-docs/stable/indexing.html#indexing-view-versus-copy\n",
      "  \"\"\"Entry point for launching an IPython kernel.\n"
     ]
    }
   ],
   "source": [
    "vanilla_df.drop_duplicates(['unique_name'], keep=\"last\", inplace=True)"
   ]
  },
  {
   "cell_type": "code",
   "execution_count": 208,
   "metadata": {},
   "outputs": [
    {
     "data": {
      "text/plain": [
       "(2839, 26)"
      ]
     },
     "execution_count": 208,
     "metadata": {},
     "output_type": "execute_result"
    }
   ],
   "source": [
    "vanilla_df.shape"
   ]
  },
  {
   "cell_type": "markdown",
   "metadata": {},
   "source": [
    "Proportion of original scripts that ran"
   ]
  },
  {
   "cell_type": "code",
   "execution_count": 209,
   "metadata": {},
   "outputs": [
    {
     "data": {
      "text/plain": [
       "408"
      ]
     },
     "execution_count": 209,
     "metadata": {},
     "output_type": "execute_result"
    }
   ],
   "source": [
    "np.sum(~vanilla_df['is_error']) "
   ]
  },
  {
   "cell_type": "code",
   "execution_count": 210,
   "metadata": {},
   "outputs": [
    {
     "data": {
      "text/plain": [
       "0.1437125748502994"
      ]
     },
     "execution_count": 210,
     "metadata": {},
     "output_type": "execute_result"
    }
   ],
   "source": [
    "np.sum(~vanilla_df['is_error'])  / (len(vanilla_df) * 1.0)"
   ]
  },
  {
   "cell_type": "code",
   "execution_count": 211,
   "metadata": {},
   "outputs": [
    {
     "data": {
      "text/plain": [
       "2839"
      ]
     },
     "execution_count": 211,
     "metadata": {},
     "output_type": "execute_result"
    }
   ],
   "source": [
    "len(vanilla_df)"
   ]
  },
  {
   "cell_type": "markdown",
   "metadata": {},
   "source": [
    "Number of errors"
   ]
  },
  {
   "cell_type": "code",
   "execution_count": 212,
   "metadata": {},
   "outputs": [],
   "source": [
    "# isolate errors in their own dataframe\n",
    "error_vanilla = vanilla_df[(vanilla_df['is_error'])]"
   ]
  },
  {
   "cell_type": "code",
   "execution_count": 213,
   "metadata": {},
   "outputs": [
    {
     "data": {
      "text/plain": [
       "2431"
      ]
     },
     "execution_count": 213,
     "metadata": {},
     "output_type": "execute_result"
    }
   ],
   "source": [
    "len(error_vanilla)"
   ]
  },
  {
   "cell_type": "markdown",
   "metadata": {},
   "source": [
    "Number of library errors"
   ]
  },
  {
   "cell_type": "code",
   "execution_count": 214,
   "metadata": {},
   "outputs": [
    {
     "data": {
      "text/plain": [
       "363"
      ]
     },
     "execution_count": 214,
     "metadata": {},
     "output_type": "execute_result"
    }
   ],
   "source": [
    "np.sum(error_vanilla['is_library_error'])"
   ]
  },
  {
   "cell_type": "code",
   "execution_count": 215,
   "metadata": {},
   "outputs": [
    {
     "data": {
      "text/plain": [
       "0.1493212669683258"
      ]
     },
     "execution_count": 215,
     "metadata": {},
     "output_type": "execute_result"
    }
   ],
   "source": [
    "np.sum(error_vanilla['is_library_error']) / (len(error_vanilla) * 1.0)"
   ]
  },
  {
   "cell_type": "markdown",
   "metadata": {},
   "source": [
    "Number of working directory errors"
   ]
  },
  {
   "cell_type": "code",
   "execution_count": 216,
   "metadata": {},
   "outputs": [
    {
     "data": {
      "text/plain": [
       "696"
      ]
     },
     "execution_count": 216,
     "metadata": {},
     "output_type": "execute_result"
    }
   ],
   "source": [
    "np.sum(error_vanilla['is_wd_error']) "
   ]
  },
  {
   "cell_type": "code",
   "execution_count": 217,
   "metadata": {},
   "outputs": [
    {
     "data": {
      "text/plain": [
       "0.2863019333607569"
      ]
     },
     "execution_count": 217,
     "metadata": {},
     "output_type": "execute_result"
    }
   ],
   "source": [
    "np.sum(error_vanilla['is_wd_error']) / (len(error_vanilla) * 1.0)"
   ]
  },
  {
   "cell_type": "markdown",
   "metadata": {},
   "source": [
    "File Errors"
   ]
  },
  {
   "cell_type": "code",
   "execution_count": 218,
   "metadata": {},
   "outputs": [
    {
     "data": {
      "text/plain": [
       "802"
      ]
     },
     "execution_count": 218,
     "metadata": {},
     "output_type": "execute_result"
    }
   ],
   "source": [
    "np.sum(error_vanilla['is_file_error'])"
   ]
  },
  {
   "cell_type": "code",
   "execution_count": 219,
   "metadata": {},
   "outputs": [
    {
     "data": {
      "text/plain": [
       "0.3299053887289181"
      ]
     },
     "execution_count": 219,
     "metadata": {},
     "output_type": "execute_result"
    }
   ],
   "source": [
    "np.sum(error_vanilla['is_file_error']) / (len(error_vanilla) * 1.0)"
   ]
  },
  {
   "cell_type": "markdown",
   "metadata": {},
   "source": [
    "Using cran without a mirror"
   ]
  },
  {
   "cell_type": "code",
   "execution_count": 220,
   "metadata": {},
   "outputs": [
    {
     "data": {
      "text/plain": [
       "0.03537638831756479"
      ]
     },
     "execution_count": 220,
     "metadata": {},
     "output_type": "execute_result"
    }
   ],
   "source": [
    "np.sum(error_vanilla['is_mirror_error']) / (len(error_vanilla) * 1.0)"
   ]
  },
  {
   "cell_type": "markdown",
   "metadata": {},
   "source": [
    "DOIs for which there were no errors"
   ]
  },
  {
   "cell_type": "code",
   "execution_count": 221,
   "metadata": {},
   "outputs": [],
   "source": [
    "# get list of dois for which all files ran successfully\n",
    "perfect_dois = []\n",
    "for doi in vanilla_df['doi'].unique():\n",
    "    doi_df = vanilla_df[vanilla_df['doi'] == doi]\n",
    "    if len(doi_df) == sum(doi_df['is_error'] == 0):\n",
    "        perfect_dois.append(doi)"
   ]
  },
  {
   "cell_type": "code",
   "execution_count": 222,
   "metadata": {},
   "outputs": [
    {
     "data": {
      "text/plain": [
       "0.03614457831325301"
      ]
     },
     "execution_count": 222,
     "metadata": {},
     "output_type": "execute_result"
    }
   ],
   "source": [
    "len(perfect_dois) / (len(vanilla_df['doi'].unique()) * 1.0)"
   ]
  },
  {
   "cell_type": "markdown",
   "metadata": {},
   "source": [
    "## Base stats for preprocessed scripts"
   ]
  },
  {
   "cell_type": "markdown",
   "metadata": {},
   "source": [
    "Proportion of preprocessed files which ran:"
   ]
  },
  {
   "cell_type": "code",
   "execution_count": 224,
   "metadata": {},
   "outputs": [],
   "source": [
    "preproc_df = my_df[my_df['is_preproc'] & (my_df['run_type'] == 'source')]"
   ]
  },
  {
   "cell_type": "code",
   "execution_count": 225,
   "metadata": {},
   "outputs": [
    {
     "name": "stderr",
     "output_type": "stream",
     "text": [
      "/usr/local/lib/python3.6/site-packages/ipykernel_launcher.py:1: SettingWithCopyWarning: \n",
      "A value is trying to be set on a copy of a slice from a DataFrame\n",
      "\n",
      "See the caveats in the documentation: http://pandas.pydata.org/pandas-docs/stable/indexing.html#indexing-view-versus-copy\n",
      "  \"\"\"Entry point for launching an IPython kernel.\n"
     ]
    }
   ],
   "source": [
    "preproc_df.drop_duplicates(['unique_name'], keep=\"last\", inplace=True)"
   ]
  },
  {
   "cell_type": "markdown",
   "metadata": {},
   "source": [
    "Proportion of preprocessed files which ran:"
   ]
  },
  {
   "cell_type": "code",
   "execution_count": 226,
   "metadata": {},
   "outputs": [],
   "source": [
    "# isolate errors in their own dataframe\n",
    "error_preproc = preproc_df[preproc_df['unique_name'].isin(set(error_vanilla['unique_name']))]"
   ]
  },
  {
   "cell_type": "code",
   "execution_count": 233,
   "metadata": {},
   "outputs": [
    {
     "data": {
      "text/plain": [
       "(2329, 26)"
      ]
     },
     "execution_count": 233,
     "metadata": {},
     "output_type": "execute_result"
    }
   ],
   "source": [
    "error_preproc.shape"
   ]
  },
  {
   "cell_type": "code",
   "execution_count": 227,
   "metadata": {},
   "outputs": [
    {
     "data": {
      "text/plain": [
       "8"
      ]
     },
     "execution_count": 227,
     "metadata": {},
     "output_type": "execute_result"
    }
   ],
   "source": [
    "np.sum(error_preproc['is_library_error'])"
   ]
  },
  {
   "cell_type": "code",
   "execution_count": 228,
   "metadata": {},
   "outputs": [
    {
     "data": {
      "text/plain": [
       "12"
      ]
     },
     "execution_count": 228,
     "metadata": {},
     "output_type": "execute_result"
    }
   ],
   "source": [
    "np.sum(error_preproc['is_wd_error'])"
   ]
  },
  {
   "cell_type": "code",
   "execution_count": 229,
   "metadata": {},
   "outputs": [
    {
     "data": {
      "text/plain": [
       "1400"
      ]
     },
     "execution_count": 229,
     "metadata": {},
     "output_type": "execute_result"
    }
   ],
   "source": [
    "np.sum(error_preproc['is_file_error'])"
   ]
  },
  {
   "cell_type": "code",
   "execution_count": 230,
   "metadata": {},
   "outputs": [
    {
     "data": {
      "text/plain": [
       "10"
      ]
     },
     "execution_count": 230,
     "metadata": {},
     "output_type": "execute_result"
    }
   ],
   "source": [
    "np.sum(error_preproc['is_mirror_error'])"
   ]
  },
  {
   "cell_type": "code",
   "execution_count": 231,
   "metadata": {},
   "outputs": [
    {
     "data": {
      "text/plain": [
       "62"
      ]
     },
     "execution_count": 231,
     "metadata": {},
     "output_type": "execute_result"
    }
   ],
   "source": [
    "np.sum(~error_preproc['is_error'])"
   ]
  },
  {
   "cell_type": "code",
   "execution_count": 232,
   "metadata": {},
   "outputs": [
    {
     "data": {
      "text/plain": [
       "0.026620867325032202"
      ]
     },
     "execution_count": 232,
     "metadata": {},
     "output_type": "execute_result"
    }
   ],
   "source": [
    "np.sum(~error_preproc['is_error']) / (len(error_preproc) * 1.0)"
   ]
  },
  {
   "cell_type": "code",
   "execution_count": 288,
   "metadata": {},
   "outputs": [],
   "source": [
    "error_preproc[error_preproc['is_library_error'] | \n",
    "              error_preproc['is_wd_error'] |\n",
    "              error_preproc['is_mirror_error']].to_csv('preproc_errors.csv')"
   ]
  },
  {
   "cell_type": "markdown",
   "metadata": {},
   "source": [
    "## Analyzing Missing Files"
   ]
  },
  {
   "cell_type": "code",
   "execution_count": 235,
   "metadata": {},
   "outputs": [],
   "source": [
    "with open(\"final_run/missing_files.pkl\", 'rb') as handle:\n",
    "    missing_files = pickle.load(handle)"
   ]
  },
  {
   "cell_type": "code",
   "execution_count": 236,
   "metadata": {},
   "outputs": [],
   "source": [
    "# filter out missing files with none missing\n",
    "missing_files = {key:value for key,value in missing_files.items() if value}"
   ]
  },
  {
   "cell_type": "code",
   "execution_count": 237,
   "metadata": {},
   "outputs": [],
   "source": [
    "# filter missing orig_files\n",
    "missing_file_paths = set()"
   ]
  },
  {
   "cell_type": "code",
   "execution_count": 238,
   "metadata": {},
   "outputs": [],
   "source": [
    "# construct origin_file paths with doi\n",
    "for doi, missing_list in missing_files.items():\n",
    "    for missing_file in missing_list:\n",
    "        try:\n",
    "            source_name, _ = missing_file.split(',')\n",
    "            source_name = '.'.join(source_name.split('.')[:-1])\n",
    "            missing_file_paths.add('/'.join([doi, source_name]))\n",
    "        except:\n",
    "            pass"
   ]
  },
  {
   "cell_type": "code",
   "execution_count": 239,
   "metadata": {},
   "outputs": [],
   "source": [
    "missing_file_dois = missing_files.keys()"
   ]
  },
  {
   "cell_type": "code",
   "execution_count": 240,
   "metadata": {},
   "outputs": [],
   "source": [
    "file_error_dois = list(error_preproc[error_preproc['is_file_error']]['doi'].unique())"
   ]
  },
  {
   "cell_type": "code",
   "execution_count": 241,
   "metadata": {},
   "outputs": [
    {
     "data": {
      "text/plain": [
       "1205"
      ]
     },
     "execution_count": 241,
     "metadata": {},
     "output_type": "execute_result"
    }
   ],
   "source": [
    "error_preproc[error_preproc['is_file_error'] & (error_preproc['unique_name'].isin(missing_file_paths))].shape[0]"
   ]
  },
  {
   "cell_type": "code",
   "execution_count": 242,
   "metadata": {},
   "outputs": [
    {
     "data": {
      "text/plain": [
       "0.8607142857142858"
      ]
     },
     "execution_count": 242,
     "metadata": {},
     "output_type": "execute_result"
    }
   ],
   "source": [
    "error_preproc[error_preproc['is_file_error'] & (error_preproc['unique_name'].isin(missing_file_paths))].shape[0]\\\n",
    "/ (np.sum(error_preproc['is_file_error']) * 1.0)\n"
   ]
  },
  {
   "cell_type": "markdown",
   "metadata": {},
   "source": [
    "A very naive way of detecting missing files revealed that 83.11% of file errors can be attributed to non-existent files."
   ]
  },
  {
   "cell_type": "code",
   "execution_count": 243,
   "metadata": {},
   "outputs": [],
   "source": [
    "error_preproc[error_preproc['is_file_error'] &\\\n",
    "              error_preproc['doi'].isin(set(file_error_dois) -\\\n",
    "                                        set(missing_file_dois))].to_csv(\"preproc_file_errors.csv\")"
   ]
  },
  {
   "cell_type": "markdown",
   "metadata": {},
   "source": [
    "## Assessing the relationship between errors and dataset age"
   ]
  },
  {
   "cell_type": "code",
   "execution_count": 244,
   "metadata": {},
   "outputs": [
    {
     "data": {
      "text/plain": [
       "Index(['doi', 'filename', 'run_type', 'error', 'is_error', 'is_preproc',\n",
       "       'unique_name', 'is_library_error', 'is_wd_error', 'is_mirror_error',\n",
       "       'is_file_error', 'create_date', 'create_year', 'Social Sciences',\n",
       "       'Computer and Information Science', 'Chemistry',\n",
       "       'Medicine, Health and Life Sciences', 'Physics', 'Engineering', 'Other',\n",
       "       'Business and Management', 'Mathematical Sciences',\n",
       "       'Arts and Humanities', 'Agricultural Sciences', 'Law',\n",
       "       'Earth and Environmental Sciences'],\n",
       "      dtype='object')"
      ]
     },
     "execution_count": 244,
     "metadata": {},
     "output_type": "execute_result"
    }
   ],
   "source": [
    "error_vanilla.columns"
   ]
  },
  {
   "cell_type": "code",
   "execution_count": 245,
   "metadata": {},
   "outputs": [],
   "source": [
    "# get the number of data files per year\n",
    "years_df = vanilla_df.groupby('create_year')['unique_name'].nunique().to_frame()"
   ]
  },
  {
   "cell_type": "code",
   "execution_count": 246,
   "metadata": {},
   "outputs": [],
   "source": [
    "years_df['error_count'] = error_vanilla.groupby('create_year')['unique_name'].nunique()"
   ]
  },
  {
   "cell_type": "code",
   "execution_count": 247,
   "metadata": {},
   "outputs": [],
   "source": [
    "years_df = years_df.reset_index()"
   ]
  },
  {
   "cell_type": "code",
   "execution_count": 248,
   "metadata": {},
   "outputs": [],
   "source": [
    "years_df['create_year'] = years_df['create_year'].astype(int)"
   ]
  },
  {
   "cell_type": "code",
   "execution_count": 249,
   "metadata": {},
   "outputs": [],
   "source": [
    "years_df['error_rate'] = years_df['error_count'] / years_df['unique_name']"
   ]
  },
  {
   "cell_type": "code",
   "execution_count": 250,
   "metadata": {},
   "outputs": [
    {
     "data": {
      "text/html": [
       "<div>\n",
       "<style scoped>\n",
       "    .dataframe tbody tr th:only-of-type {\n",
       "        vertical-align: middle;\n",
       "    }\n",
       "\n",
       "    .dataframe tbody tr th {\n",
       "        vertical-align: top;\n",
       "    }\n",
       "\n",
       "    .dataframe thead th {\n",
       "        text-align: right;\n",
       "    }\n",
       "</style>\n",
       "<table border=\"1\" class=\"dataframe\">\n",
       "  <thead>\n",
       "    <tr style=\"text-align: right;\">\n",
       "      <th></th>\n",
       "      <th>create_year</th>\n",
       "      <th>unique_name</th>\n",
       "      <th>error_count</th>\n",
       "      <th>error_rate</th>\n",
       "    </tr>\n",
       "  </thead>\n",
       "  <tbody>\n",
       "    <tr>\n",
       "      <th>0</th>\n",
       "      <td>2015</td>\n",
       "      <td>282</td>\n",
       "      <td>253</td>\n",
       "      <td>0.897163</td>\n",
       "    </tr>\n",
       "    <tr>\n",
       "      <th>1</th>\n",
       "      <td>2016</td>\n",
       "      <td>927</td>\n",
       "      <td>786</td>\n",
       "      <td>0.847896</td>\n",
       "    </tr>\n",
       "    <tr>\n",
       "      <th>2</th>\n",
       "      <td>2017</td>\n",
       "      <td>1416</td>\n",
       "      <td>1204</td>\n",
       "      <td>0.850282</td>\n",
       "    </tr>\n",
       "    <tr>\n",
       "      <th>3</th>\n",
       "      <td>2018</td>\n",
       "      <td>212</td>\n",
       "      <td>186</td>\n",
       "      <td>0.877358</td>\n",
       "    </tr>\n",
       "  </tbody>\n",
       "</table>\n",
       "</div>"
      ],
      "text/plain": [
       "   create_year  unique_name  error_count  error_rate\n",
       "0         2015          282          253    0.897163\n",
       "1         2016          927          786    0.847896\n",
       "2         2017         1416         1204    0.850282\n",
       "3         2018          212          186    0.877358"
      ]
     },
     "execution_count": 250,
     "metadata": {},
     "output_type": "execute_result"
    }
   ],
   "source": [
    "years_df"
   ]
  },
  {
   "cell_type": "code",
   "execution_count": 251,
   "metadata": {},
   "outputs": [],
   "source": [
    "grouped_years_df = pd.DataFrame()\n",
    "for column in ['create_year', 'number', 'Count Type']:\n",
    "    grouped_years_df[column] = pd.Series()\n",
    "for _, row in years_df.iterrows():\n",
    "    grouped_years_df = grouped_years_df.append({'create_year': row['create_year'], \n",
    "                             'number': row['error_count'],\n",
    "                             'Count Type': 'Number of Errors'},\n",
    "                            ignore_index=True)\n",
    "    grouped_years_df = grouped_years_df.append({'create_year': row['create_year'], \n",
    "                             'number': row['unique_name'],\n",
    "                             'Count Type': 'Number of Scripts'},\n",
    "                            ignore_index=True)"
   ]
  },
  {
   "cell_type": "code",
   "execution_count": 252,
   "metadata": {},
   "outputs": [],
   "source": [
    "for col in  ['create_year', 'number']:\n",
    "    grouped_years_df[col] = grouped_years_df[col].astype(int)"
   ]
  },
  {
   "cell_type": "code",
   "execution_count": 253,
   "metadata": {},
   "outputs": [
    {
     "data": {
      "text/html": [
       "<div>\n",
       "<style scoped>\n",
       "    .dataframe tbody tr th:only-of-type {\n",
       "        vertical-align: middle;\n",
       "    }\n",
       "\n",
       "    .dataframe tbody tr th {\n",
       "        vertical-align: top;\n",
       "    }\n",
       "\n",
       "    .dataframe thead th {\n",
       "        text-align: right;\n",
       "    }\n",
       "</style>\n",
       "<table border=\"1\" class=\"dataframe\">\n",
       "  <thead>\n",
       "    <tr style=\"text-align: right;\">\n",
       "      <th></th>\n",
       "      <th>create_year</th>\n",
       "      <th>number</th>\n",
       "      <th>Count Type</th>\n",
       "    </tr>\n",
       "  </thead>\n",
       "  <tbody>\n",
       "    <tr>\n",
       "      <th>0</th>\n",
       "      <td>2015</td>\n",
       "      <td>253</td>\n",
       "      <td>Number of Errors</td>\n",
       "    </tr>\n",
       "    <tr>\n",
       "      <th>1</th>\n",
       "      <td>2015</td>\n",
       "      <td>282</td>\n",
       "      <td>Number of Scripts</td>\n",
       "    </tr>\n",
       "    <tr>\n",
       "      <th>2</th>\n",
       "      <td>2016</td>\n",
       "      <td>786</td>\n",
       "      <td>Number of Errors</td>\n",
       "    </tr>\n",
       "    <tr>\n",
       "      <th>3</th>\n",
       "      <td>2016</td>\n",
       "      <td>927</td>\n",
       "      <td>Number of Scripts</td>\n",
       "    </tr>\n",
       "    <tr>\n",
       "      <th>4</th>\n",
       "      <td>2017</td>\n",
       "      <td>1204</td>\n",
       "      <td>Number of Errors</td>\n",
       "    </tr>\n",
       "    <tr>\n",
       "      <th>5</th>\n",
       "      <td>2017</td>\n",
       "      <td>1416</td>\n",
       "      <td>Number of Scripts</td>\n",
       "    </tr>\n",
       "    <tr>\n",
       "      <th>6</th>\n",
       "      <td>2018</td>\n",
       "      <td>186</td>\n",
       "      <td>Number of Errors</td>\n",
       "    </tr>\n",
       "    <tr>\n",
       "      <th>7</th>\n",
       "      <td>2018</td>\n",
       "      <td>212</td>\n",
       "      <td>Number of Scripts</td>\n",
       "    </tr>\n",
       "  </tbody>\n",
       "</table>\n",
       "</div>"
      ],
      "text/plain": [
       "   create_year  number         Count Type\n",
       "0         2015     253   Number of Errors\n",
       "1         2015     282  Number of Scripts\n",
       "2         2016     786   Number of Errors\n",
       "3         2016     927  Number of Scripts\n",
       "4         2017    1204   Number of Errors\n",
       "5         2017    1416  Number of Scripts\n",
       "6         2018     186   Number of Errors\n",
       "7         2018     212  Number of Scripts"
      ]
     },
     "execution_count": 253,
     "metadata": {},
     "output_type": "execute_result"
    }
   ],
   "source": [
    "grouped_years_df"
   ]
  },
  {
   "cell_type": "code",
   "execution_count": 254,
   "metadata": {},
   "outputs": [
    {
     "data": {
      "image/png": "[encoded data removed]",
      "text/plain": [
       "<Figure size 1500x750 with 1 Axes>"
      ]
     },
     "metadata": {},
     "output_type": "display_data"
    }
   ],
   "source": [
    "plt.figure(figsize=(10, 5), dpi=150)\n",
    "sns.set(color_codes=True)\n",
    "sns.set_style(\"whitegrid\")\n",
    "sns.set_context(\"notebook\")\n",
    "ax = sns.barplot(x=\"create_year\", y=\"number\", hue=\"Count Type\", data=grouped_years_df, palette=sns.color_palette(\"Set1\", n_colors=3, desat=.7))\n",
    "ax.set_title('Total Script and Error Count by Year')\n",
    "ax.set_xlabel(\"Dataset Publish Year\")\n",
    "ax.set_ylabel(\"Number\")\n",
    "plt.savefig('error_count_by_year.pdf', filetype=\"pdf\")"
   ]
  },
  {
   "cell_type": "code",
   "execution_count": 255,
   "metadata": {},
   "outputs": [
    {
     "data": {
      "image/png": "[encoded data removed]",
      "text/plain": [
       "<Figure size 1500x750 with 1 Axes>"
      ]
     },
     "metadata": {},
     "output_type": "display_data"
    }
   ],
   "source": [
    "plt.figure(figsize=(10, 5), dpi=150)\n",
    "sns.set(color_codes=True)\n",
    "sns.set_style(\"whitegrid\")\n",
    "sns.set_context(\"notebook\")\n",
    "ax = sns.pointplot(x=years_df['create_year'], y=years_df['error_rate'])\n",
    "ax.set_ylim(0,1)\n",
    "ax.set_title('Proportion of Scripts that Fail By Year')\n",
    "ax.set_xlabel(\"Dataset Publish Year\")\n",
    "ax.set_ylabel(\"Proportion of Failing Scripts\")\n",
    "plt.savefig('error_rates.pdf', filetype=\"pdf\")\n"
   ]
  },
  {
   "cell_type": "markdown",
   "metadata": {},
   "source": [
    "## Assessing error rate within datasets"
   ]
  },
  {
   "cell_type": "code",
   "execution_count": 256,
   "metadata": {},
   "outputs": [],
   "source": [
    "# get the number of files for each doi\n",
    "files_by_doi = vanilla_df.groupby('doi')['unique_name'].nunique().to_frame()"
   ]
  },
  {
   "cell_type": "code",
   "execution_count": 257,
   "metadata": {},
   "outputs": [],
   "source": [
    "files_by_doi['num_errors'] = vanilla_df.groupby('doi')['is_error'].sum()"
   ]
  },
  {
   "cell_type": "code",
   "execution_count": 258,
   "metadata": {},
   "outputs": [],
   "source": [
    "# reset index so doi is just a column and not the id column\n",
    "files_by_doi = files_by_doi.reset_index()"
   ]
  },
  {
   "cell_type": "code",
   "execution_count": 259,
   "metadata": {},
   "outputs": [],
   "source": [
    "files_by_doi['error_rate'] = files_by_doi['num_errors'] / files_by_doi['unique_name']"
   ]
  },
  {
   "cell_type": "code",
   "execution_count": 260,
   "metadata": {},
   "outputs": [
    {
     "data": {
      "text/plain": [
       "747"
      ]
     },
     "execution_count": 260,
     "metadata": {},
     "output_type": "execute_result"
    }
   ],
   "source": [
    "len(files_by_doi)"
   ]
  },
  {
   "cell_type": "code",
   "execution_count": 261,
   "metadata": {},
   "outputs": [
    {
     "name": "stderr",
     "output_type": "stream",
     "text": [
      "/usr/local/lib/python3.6/site-packages/matplotlib/axes/_axes.py:6462: UserWarning: The 'normed' kwarg is deprecated, and has been replaced by the 'density' kwarg.\n",
      "  warnings.warn(\"The 'normed' kwarg is deprecated, and has been \"\n"
     ]
    },
    {
     "data": {
      "image/png": "[encoded data removed]",
      "text/plain": [
       "<Figure size 1500x750 with 1 Axes>"
      ]
     },
     "metadata": {},
     "output_type": "display_data"
    }
   ],
   "source": [
    "plt.figure(figsize=(10, 5), dpi=150)\n",
    "sns.set(color_codes=True)\n",
    "sns.set_style(\"whitegrid\")\n",
    "sns.set_context(\"notebook\")\n",
    "ax = sns.distplot(files_by_doi['error_rate'], kde=False, color=\"DarkRed\", bins=30)\n",
    "ax.set_title('Within-Dataset Error Rates')\n",
    "ax.set_xlabel(\"Error Rate\")\n",
    "ax.set_ylabel(\"Number of Datasets\")\n",
    "plt.savefig('error_rate_in_dataset.pdf', filetype=\"pdf\")"
   ]
  },
  {
   "cell_type": "markdown",
   "metadata": {},
   "source": [
    "## Assessing error rate between subjects"
   ]
  },
  {
   "cell_type": "code",
   "execution_count": 263,
   "metadata": {},
   "outputs": [],
   "source": [
    "error_corr_df = vanilla_df.drop(['doi', 'filename', 'run_type', 'error', 'unique_name',\n",
    "                                 'create_date', 'create_year', 'is_preproc'],\n",
    "                                axis=1)\n",
    "for column in error_corr_df.columns:\n",
    "    error_corr_df[column] = error_corr_df[column].astype(float)"
   ]
  },
  {
   "cell_type": "markdown",
   "metadata": {},
   "source": [
    "Getting the overall number in subjects"
   ]
  },
  {
   "cell_type": "code",
   "execution_count": 264,
   "metadata": {},
   "outputs": [
    {
     "data": {
      "text/html": [
       "<div>\n",
       "<style scoped>\n",
       "    .dataframe tbody tr th:only-of-type {\n",
       "        vertical-align: middle;\n",
       "    }\n",
       "\n",
       "    .dataframe tbody tr th {\n",
       "        vertical-align: top;\n",
       "    }\n",
       "\n",
       "    .dataframe thead th {\n",
       "        text-align: right;\n",
       "    }\n",
       "</style>\n",
       "<table border=\"1\" class=\"dataframe\">\n",
       "  <thead>\n",
       "    <tr style=\"text-align: right;\">\n",
       "      <th></th>\n",
       "      <th>is_error</th>\n",
       "      <th>is_library_error</th>\n",
       "      <th>is_wd_error</th>\n",
       "      <th>is_mirror_error</th>\n",
       "      <th>is_file_error</th>\n",
       "    </tr>\n",
       "  </thead>\n",
       "  <tbody>\n",
       "    <tr>\n",
       "      <th>is_error</th>\n",
       "      <td>1.000000</td>\n",
       "      <td>0.156861</td>\n",
       "      <td>0.233470</td>\n",
       "      <td>0.072408</td>\n",
       "      <td>0.257057</td>\n",
       "    </tr>\n",
       "    <tr>\n",
       "      <th>is_library_error</th>\n",
       "      <td>0.156861</td>\n",
       "      <td>1.000000</td>\n",
       "      <td>-0.218208</td>\n",
       "      <td>-0.067674</td>\n",
       "      <td>-0.240253</td>\n",
       "    </tr>\n",
       "    <tr>\n",
       "      <th>is_wd_error</th>\n",
       "      <td>0.233470</td>\n",
       "      <td>-0.218208</td>\n",
       "      <td>1.000000</td>\n",
       "      <td>-0.100726</td>\n",
       "      <td>-0.357590</td>\n",
       "    </tr>\n",
       "    <tr>\n",
       "      <th>is_mirror_error</th>\n",
       "      <td>0.072408</td>\n",
       "      <td>-0.067674</td>\n",
       "      <td>-0.100726</td>\n",
       "      <td>1.000000</td>\n",
       "      <td>-0.110902</td>\n",
       "    </tr>\n",
       "    <tr>\n",
       "      <th>is_file_error</th>\n",
       "      <td>0.257057</td>\n",
       "      <td>-0.240253</td>\n",
       "      <td>-0.357590</td>\n",
       "      <td>-0.110902</td>\n",
       "      <td>1.000000</td>\n",
       "    </tr>\n",
       "    <tr>\n",
       "      <th>Social Sciences</th>\n",
       "      <td>0.180589</td>\n",
       "      <td>0.021434</td>\n",
       "      <td>0.055474</td>\n",
       "      <td>0.034619</td>\n",
       "      <td>0.046424</td>\n",
       "    </tr>\n",
       "    <tr>\n",
       "      <th>Computer and Information Science</th>\n",
       "      <td>0.033567</td>\n",
       "      <td>-0.038183</td>\n",
       "      <td>-0.035923</td>\n",
       "      <td>-0.004635</td>\n",
       "      <td>0.059201</td>\n",
       "    </tr>\n",
       "    <tr>\n",
       "      <th>Chemistry</th>\n",
       "      <td>-0.026967</td>\n",
       "      <td>-0.010166</td>\n",
       "      <td>0.015729</td>\n",
       "      <td>-0.004693</td>\n",
       "      <td>-0.016660</td>\n",
       "    </tr>\n",
       "    <tr>\n",
       "      <th>Medicine, Health and Life Sciences</th>\n",
       "      <td>-0.173540</td>\n",
       "      <td>-0.003079</td>\n",
       "      <td>-0.056088</td>\n",
       "      <td>-0.023968</td>\n",
       "      <td>-0.045165</td>\n",
       "    </tr>\n",
       "    <tr>\n",
       "      <th>Physics</th>\n",
       "      <td>0.036204</td>\n",
       "      <td>-0.033837</td>\n",
       "      <td>-0.041025</td>\n",
       "      <td>-0.015619</td>\n",
       "      <td>0.105151</td>\n",
       "    </tr>\n",
       "    <tr>\n",
       "      <th>Engineering</th>\n",
       "      <td>-0.078582</td>\n",
       "      <td>-0.016083</td>\n",
       "      <td>-0.023937</td>\n",
       "      <td>-0.007424</td>\n",
       "      <td>-0.007696</td>\n",
       "    </tr>\n",
       "    <tr>\n",
       "      <th>Other</th>\n",
       "      <td>-0.070883</td>\n",
       "      <td>0.015156</td>\n",
       "      <td>-0.007162</td>\n",
       "      <td>-0.017640</td>\n",
       "      <td>-0.046789</td>\n",
       "    </tr>\n",
       "    <tr>\n",
       "      <th>Business and Management</th>\n",
       "      <td>0.028840</td>\n",
       "      <td>-0.026955</td>\n",
       "      <td>-0.005052</td>\n",
       "      <td>0.016896</td>\n",
       "      <td>0.000504</td>\n",
       "    </tr>\n",
       "    <tr>\n",
       "      <th>Mathematical Sciences</th>\n",
       "      <td>-0.191939</td>\n",
       "      <td>-0.046184</td>\n",
       "      <td>-0.083920</td>\n",
       "      <td>-0.000805</td>\n",
       "      <td>-0.031774</td>\n",
       "    </tr>\n",
       "    <tr>\n",
       "      <th>Arts and Humanities</th>\n",
       "      <td>0.010496</td>\n",
       "      <td>0.030807</td>\n",
       "      <td>-0.038212</td>\n",
       "      <td>0.034258</td>\n",
       "      <td>0.031339</td>\n",
       "    </tr>\n",
       "    <tr>\n",
       "      <th>Agricultural Sciences</th>\n",
       "      <td>-0.009397</td>\n",
       "      <td>-0.000645</td>\n",
       "      <td>-0.031966</td>\n",
       "      <td>-0.013306</td>\n",
       "      <td>0.015469</td>\n",
       "    </tr>\n",
       "    <tr>\n",
       "      <th>Law</th>\n",
       "      <td>-0.034421</td>\n",
       "      <td>-0.002167</td>\n",
       "      <td>-0.052386</td>\n",
       "      <td>0.091917</td>\n",
       "      <td>0.021742</td>\n",
       "    </tr>\n",
       "    <tr>\n",
       "      <th>Earth and Environmental Sciences</th>\n",
       "      <td>-0.175729</td>\n",
       "      <td>-0.048573</td>\n",
       "      <td>-0.006322</td>\n",
       "      <td>-0.024404</td>\n",
       "      <td>-0.063431</td>\n",
       "    </tr>\n",
       "  </tbody>\n",
       "</table>\n",
       "</div>"
      ],
      "text/plain": [
       "                                    is_error  is_library_error  is_wd_error  \\\n",
       "is_error                            1.000000          0.156861     0.233470   \n",
       "is_library_error                    0.156861          1.000000    -0.218208   \n",
       "is_wd_error                         0.233470         -0.218208     1.000000   \n",
       "is_mirror_error                     0.072408         -0.067674    -0.100726   \n",
       "is_file_error                       0.257057         -0.240253    -0.357590   \n",
       "Social Sciences                     0.180589          0.021434     0.055474   \n",
       "Computer and Information Science    0.033567         -0.038183    -0.035923   \n",
       "Chemistry                          -0.026967         -0.010166     0.015729   \n",
       "Medicine, Health and Life Sciences -0.173540         -0.003079    -0.056088   \n",
       "Physics                             0.036204         -0.033837    -0.041025   \n",
       "Engineering                        -0.078582         -0.016083    -0.023937   \n",
       "Other                              -0.070883          0.015156    -0.007162   \n",
       "Business and Management             0.028840         -0.026955    -0.005052   \n",
       "Mathematical Sciences              -0.191939         -0.046184    -0.083920   \n",
       "Arts and Humanities                 0.010496          0.030807    -0.038212   \n",
       "Agricultural Sciences              -0.009397         -0.000645    -0.031966   \n",
       "Law                                -0.034421         -0.002167    -0.052386   \n",
       "Earth and Environmental Sciences   -0.175729         -0.048573    -0.006322   \n",
       "\n",
       "                                    is_mirror_error  is_file_error  \n",
       "is_error                                   0.072408       0.257057  \n",
       "is_library_error                          -0.067674      -0.240253  \n",
       "is_wd_error                               -0.100726      -0.357590  \n",
       "is_mirror_error                            1.000000      -0.110902  \n",
       "is_file_error                             -0.110902       1.000000  \n",
       "Social Sciences                            0.034619       0.046424  \n",
       "Computer and Information Science          -0.004635       0.059201  \n",
       "Chemistry                                 -0.004693      -0.016660  \n",
       "Medicine, Health and Life Sciences        -0.023968      -0.045165  \n",
       "Physics                                   -0.015619       0.105151  \n",
       "Engineering                               -0.007424      -0.007696  \n",
       "Other                                     -0.017640      -0.046789  \n",
       "Business and Management                    0.016896       0.000504  \n",
       "Mathematical Sciences                     -0.000805      -0.031774  \n",
       "Arts and Humanities                        0.034258       0.031339  \n",
       "Agricultural Sciences                     -0.013306       0.015469  \n",
       "Law                                        0.091917       0.021742  \n",
       "Earth and Environmental Sciences          -0.024404      -0.063431  "
      ]
     },
     "execution_count": 264,
     "metadata": {},
     "output_type": "execute_result"
    }
   ],
   "source": [
    "error_corr_df.corr()[['is_error', 'is_library_error', 'is_wd_error', 'is_mirror_error', 'is_file_error']]"
   ]
  },
  {
   "cell_type": "markdown",
   "metadata": {},
   "source": [
    "Correlation analysis doesn't reveal any striking results"
   ]
  },
  {
   "cell_type": "markdown",
   "metadata": {},
   "source": [
    "### Overall error rates across subjects"
   ]
  },
  {
   "cell_type": "code",
   "execution_count": 265,
   "metadata": {},
   "outputs": [],
   "source": [
    "def calculate_subject_error_rate(subject, df):\n",
    "    sub_df = df[df[subject].astype(bool)]\n",
    "    return sum(sub_df['is_error']) / (len(sub_df) * 1.0), len(sub_df)"
   ]
  },
  {
   "cell_type": "code",
   "execution_count": 355,
   "metadata": {},
   "outputs": [],
   "source": [
    "subjects_list = ['Social Sciences',\n",
    "       'Computer and Information Science', \n",
    "       'Medicine, Health and Life Sciences', 'Physics', 'Engineering', 'Other',\n",
    "       'Business and Management', 'Mathematical Sciences',\n",
    "       'Arts and Humanities', 'Agricultural Sciences', 'Law',\n",
    "       'Earth and Environmental Sciences']"
   ]
  },
  {
   "cell_type": "code",
   "execution_count": 356,
   "metadata": {},
   "outputs": [],
   "source": [
    "subject_err_df = pd.DataFrame()\n",
    "for column in ['Subject', 'is_error']:\n",
    "    subject_err_df = pd.Series()\n",
    "for subject in subjects_list:\n",
    "    subject_count = np.sum(vanilla_df[subject])\n",
    "    subject_err = np.sum(vanilla_df[subject].astype(bool) & vanilla_df['is_error'])\n",
    "    for num in range(subject_err):\n",
    "        subject_err_df = subject_err_df.append(pd.DataFrame({'Subject': [subject], 'is_error': [1]}),\n",
    "                              ignore_index=True, verify_integrity=False)\n",
    "    for num in range(int(subject_count) - subject_err):\n",
    "        subject_err_df = subject_err_df.append(pd.DataFrame({'Subject': [subject], 'is_error': [0]}),\n",
    "                              ignore_index=True, verify_integrity=False)"
   ]
  },
  {
   "cell_type": "code",
   "execution_count": 357,
   "metadata": {},
   "outputs": [],
   "source": [
    "subject_error_rates = pd.DataFrame()\n",
    "for col in ['Subject', 'Error Rate', 'Total Number']:\n",
    "    subject_error_rates[col] = pd.Series()\n",
    "for subject in subject_set:\n",
    "    # chemistry has no members, want to avoid dividing by 0\n",
    "    if subject != \"Chemistry\":\n",
    "        error_rate, total_num = calculate_subject_error_rate(subject, vanilla_df)\n",
    "        subject_error_rates = subject_error_rates.append({'Subject': subject,\n",
    "                                                          'Error Rate': error_rate,\n",
    "                                                          'Total Number': total_num},\n",
    "                                                        ignore_index=True)\n",
    "        "
   ]
  },
  {
   "cell_type": "code",
   "execution_count": 358,
   "metadata": {},
   "outputs": [],
   "source": [
    "subject_error_rates['Total Number'] = subject_error_rates['Total Number'].astype(int)"
   ]
  },
  {
   "cell_type": "code",
   "execution_count": 359,
   "metadata": {},
   "outputs": [],
   "source": [
    "subject_error_rates.to_csv(\"subject_error_rates.csv\", index=False)"
   ]
  },
  {
   "cell_type": "code",
   "execution_count": 297,
   "metadata": {},
   "outputs": [
    {
     "name": "stdout",
     "output_type": "stream",
     "text": [
      "Social Sciences\n",
      "0.0064598871183862904\n",
      "Computer and Information Science\n",
      "0.03286026473058831\n",
      "Medicine, Health and Life Sciences\n",
      "0.04834769988284787\n",
      "Physics\n",
      "0.0\n",
      "Engineering\n",
      "0.1788854381999832\n",
      "Other\n",
      "0.09229618630166093\n",
      "Business and Management\n",
      "0.0\n",
      "Mathematical Sciences\n",
      "0.059974679167611115\n",
      "Arts and Humanities\n",
      "0.06708203932499368\n",
      "Agricultural Sciences\n",
      "0.09757809372497497\n",
      "Law\n",
      "0.05557580101213501\n",
      "Earth and Environmental Sciences\n",
      "0.04790583480943956\n"
     ]
    }
   ],
   "source": [
    "for _, row in subject_error_rates.iterrows():\n",
    "    print(row['Subject'])\n",
    "    p_hat = row['Error Rate']\n",
    "    print(np.sqrt((p_hat * (1 - p_hat)) / row['Total Number']))"
   ]
  },
  {
   "cell_type": "code",
   "execution_count": 360,
   "metadata": {},
   "outputs": [
    {
     "data": {
      "image/png": "[encoded data removed]",
      "text/plain": [
       "<Figure size 1500x900 with 1 Axes>"
      ]
     },
     "metadata": {},
     "output_type": "display_data"
    }
   ],
   "source": [
    "plt.figure(figsize=(10, 6), dpi=150)\n",
    "plt.xticks(rotation=-70)\n",
    "sns.set(color_codes=True)\n",
    "sns.set_style(\"whitegrid\")\n",
    "sns.set_context(\"notebook\")\n",
    "ax = sns.barplot(x=subject_err_df['Subject'], \n",
    "                 y=subject_err_df['is_error'])\n",
    "ax.set_title('Script Failure Proportion by Subject')\n",
    "ax.set_xlabel(\"Subject\")\n",
    "ax.set_ylabel(\"Proportion of Failing Scripts\")\n",
    "plt.tight_layout()\n",
    "plt.savefig('Error_rate_by_subject.pdf', filetype=\"pdf\")"
   ]
  },
  {
   "cell_type": "markdown",
   "metadata": {},
   "source": [
    "## Checking for provR bugs (features)"
   ]
  },
  {
   "cell_type": "code",
   "execution_count": 271,
   "metadata": {},
   "outputs": [],
   "source": [
    "vanilla_success = vanilla_df[vanilla_df['error'] == 'success']"
   ]
  },
  {
   "cell_type": "code",
   "execution_count": 272,
   "metadata": {},
   "outputs": [
    {
     "data": {
      "text/plain": [
       "408"
      ]
     },
     "execution_count": 272,
     "metadata": {},
     "output_type": "execute_result"
    }
   ],
   "source": [
    "len(vanilla_success['unique_name'].unique())"
   ]
  },
  {
   "cell_type": "code",
   "execution_count": 273,
   "metadata": {},
   "outputs": [],
   "source": [
    "success_files = vanilla_success['unique_name'].unique()"
   ]
  },
  {
   "cell_type": "code",
   "execution_count": 279,
   "metadata": {},
   "outputs": [],
   "source": [
    "provR_success = my_df[~my_df['is_preproc'] &\\\n",
    "                      (my_df['run_type'] == 'provR') &\\\n",
    "                      my_df['unique_name'].isin(success_files)]"
   ]
  },
  {
   "cell_type": "code",
   "execution_count": 281,
   "metadata": {},
   "outputs": [
    {
     "data": {
      "text/plain": [
       "(405, 26)"
      ]
     },
     "execution_count": 281,
     "metadata": {},
     "output_type": "execute_result"
    }
   ],
   "source": [
    "provR_success.shape"
   ]
  },
  {
   "cell_type": "code",
   "execution_count": 282,
   "metadata": {},
   "outputs": [
    {
     "data": {
      "text/plain": [
       "408"
      ]
     },
     "execution_count": 282,
     "metadata": {},
     "output_type": "execute_result"
    }
   ],
   "source": [
    "len(vanilla_success)"
   ]
  },
  {
   "cell_type": "code",
   "execution_count": 283,
   "metadata": {},
   "outputs": [
    {
     "data": {
      "text/plain": [
       "0.9259259259259259"
      ]
     },
     "execution_count": 283,
     "metadata": {},
     "output_type": "execute_result"
    }
   ],
   "source": [
    "np.sum(~provR_success['is_error']) / (1.0 * len(provR_success))"
   ]
  },
  {
   "cell_type": "code",
   "execution_count": 284,
   "metadata": {},
   "outputs": [],
   "source": [
    "provR_success[~(provR_success['error'] == 'success')].to_csv(\"provr_errors.csv\")"
   ]
  },
  {
   "cell_type": "code",
   "execution_count": 289,
   "metadata": {},
   "outputs": [
    {
     "data": {
      "text/plain": [
       "375"
      ]
     },
     "execution_count": 289,
     "metadata": {},
     "output_type": "execute_result"
    }
   ],
   "source": [
    "np.sum(~provR_success['is_error'])"
   ]
  },
  {
   "cell_type": "code",
   "execution_count": null,
   "metadata": {},
   "outputs": [],
   "source": []
  }
 ],
 "metadata": {
  "kernelspec": {
   "display_name": "Python 2",
   "language": "python2.7",
   "name": "python2"
  },
  "language_info": {
   "codemirror_mode": {
    "name": "ipython",
    "version": 3
   },
   "file_extension": ".py",
   "mimetype": "text/x-python",
   "name": "python",
   "nbconvert_exporter": "python",
   "pygments_lexer": "ipython3",
   "version": "3.6.4"
  }
 },
 "nbformat": 4,
 "nbformat_minor": 2
}
