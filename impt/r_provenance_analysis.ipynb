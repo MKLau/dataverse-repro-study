{
 "cells": [
  {
   "cell_type": "code",
   "execution_count": 11,
   "metadata": {},
   "outputs": [],
   "source": [
    "import os\n",
    "import re\n",
    "\n",
    "from tqdm import tqdm as tqdm\n",
    "import pandas as pd\n",
    "import numpy as np"
   ]
  },
  {
   "cell_type": "code",
   "execution_count": 2,
   "metadata": {},
   "outputs": [],
   "source": [
    "# get list of dataset directories\n",
    "doi_directs = [doi for doi in os.listdir(\"rdata_odyc\") if\\\n",
    "               doi != \".DS_Store\"]"
   ]
  },
  {
   "cell_type": "code",
   "execution_count": 3,
   "metadata": {},
   "outputs": [],
   "source": [
    "# initialize empty dataframe to store run logs of all the files\n",
    "my_df = pd.DataFrame()\n",
    "# initialize empty list to store problem doi's\n",
    "error_dois = []"
   ]
  },
  {
   "cell_type": "code",
   "execution_count": 4,
   "metadata": {},
   "outputs": [
    {
     "name": "stderr",
     "output_type": "stream",
     "text": [
      "100%|██████████| 608/608 [00:01<00:00, 431.43it/s]\n"
     ]
    }
   ],
   "source": [
    "# iterate through directories and concatenate run logs\n",
    "for doi_index in tqdm(range(len(doi_directs))):\n",
    "    my_doi = doi_directs[doi_index]\n",
    "    try:\n",
    "        # assemble path\n",
    "        my_path = \"rdata_odyc/\" + my_doi + \"/prov_data/\" + \"run_log.csv\"\n",
    "        # concatenate to dataframe\n",
    "        my_df = pd.concat([my_df, pd.read_csv(my_path)])\n",
    "    except:\n",
    "        error_dois.append(my_doi)"
   ]
  },
  {
   "cell_type": "code",
   "execution_count": 5,
   "metadata": {
    "scrolled": true
   },
   "outputs": [
    {
     "data": {
      "text/plain": [
       "[]"
      ]
     },
     "execution_count": 5,
     "metadata": {},
     "output_type": "execute_result"
    }
   ],
   "source": [
    "error_dois"
   ]
  },
  {
   "cell_type": "code",
   "execution_count": 6,
   "metadata": {},
   "outputs": [
    {
     "data": {
      "text/plain": [
       "(3897, 4)"
      ]
     },
     "execution_count": 6,
     "metadata": {},
     "output_type": "execute_result"
    }
   ],
   "source": [
    "my_df.shape"
   ]
  },
  {
   "cell_type": "code",
   "execution_count": 7,
   "metadata": {},
   "outputs": [],
   "source": [
    "my_df.to_csv(\"master_run_log.csv\", index=False)"
   ]
  },
  {
   "cell_type": "code",
   "execution_count": 8,
   "metadata": {},
   "outputs": [
    {
     "data": {
      "text/html": [
       "<div>\n",
       "<style>\n",
       "    .dataframe thead tr:only-child th {\n",
       "        text-align: right;\n",
       "    }\n",
       "\n",
       "    .dataframe thead th {\n",
       "        text-align: left;\n",
       "    }\n",
       "\n",
       "    .dataframe tbody tr th {\n",
       "        vertical-align: top;\n",
       "    }\n",
       "</style>\n",
       "<table border=\"1\" class=\"dataframe\">\n",
       "  <thead>\n",
       "    <tr style=\"text-align: right;\">\n",
       "      <th></th>\n",
       "      <th>doi</th>\n",
       "      <th>filename</th>\n",
       "      <th>run_type</th>\n",
       "      <th>error</th>\n",
       "    </tr>\n",
       "  </thead>\n",
       "  <tbody>\n",
       "    <tr>\n",
       "      <th>0</th>\n",
       "      <td>rdata_odyc/doi--10.7910-DVN-AZHTBT</td>\n",
       "      <td>3. bes_twitter_facebook.R</td>\n",
       "      <td>source</td>\n",
       "      <td>Error in setwd(C:/Users/Jon/Dropbox/BES backup...</td>\n",
       "    </tr>\n",
       "    <tr>\n",
       "      <th>1</th>\n",
       "      <td>rdata_odyc/doi--10.7910-DVN-AZHTBT</td>\n",
       "      <td>3. bes_twitter_facebook_preproc0.R</td>\n",
       "      <td>source</td>\n",
       "      <td>Error in setwd(C:/Users/Jon/Dropbox/BES backup...</td>\n",
       "    </tr>\n",
       "    <tr>\n",
       "      <th>0</th>\n",
       "      <td>rdata_odyc/doi--10.7910-DVN-ERX5D1</td>\n",
       "      <td>Final_Thesis.R</td>\n",
       "      <td>source</td>\n",
       "      <td>Error in source(r_file) : Final_Thesis.R:789:1...</td>\n",
       "    </tr>\n",
       "    <tr>\n",
       "      <th>1</th>\n",
       "      <td>rdata_odyc/doi--10.7910-DVN-ERX5D1</td>\n",
       "      <td>Final_Thesis_preproc0.R</td>\n",
       "      <td>source</td>\n",
       "      <td>Error in source(r_file) : Final_Thesis_preproc...</td>\n",
       "    </tr>\n",
       "    <tr>\n",
       "      <th>0</th>\n",
       "      <td>rdata_odyc/doi--10.7910-DVN-3UXBOJ</td>\n",
       "      <td>classification.R</td>\n",
       "      <td>source</td>\n",
       "      <td>Error : 'Final_data/percentage_data.csv' does ...</td>\n",
       "    </tr>\n",
       "  </tbody>\n",
       "</table>\n",
       "</div>"
      ],
      "text/plain": [
       "                                  doi                            filename  \\\n",
       "0  rdata_odyc/doi--10.7910-DVN-AZHTBT           3. bes_twitter_facebook.R   \n",
       "1  rdata_odyc/doi--10.7910-DVN-AZHTBT  3. bes_twitter_facebook_preproc0.R   \n",
       "0  rdata_odyc/doi--10.7910-DVN-ERX5D1                      Final_Thesis.R   \n",
       "1  rdata_odyc/doi--10.7910-DVN-ERX5D1             Final_Thesis_preproc0.R   \n",
       "0  rdata_odyc/doi--10.7910-DVN-3UXBOJ                    classification.R   \n",
       "\n",
       "  run_type                                              error  \n",
       "0   source  Error in setwd(C:/Users/Jon/Dropbox/BES backup...  \n",
       "1   source  Error in setwd(C:/Users/Jon/Dropbox/BES backup...  \n",
       "0   source  Error in source(r_file) : Final_Thesis.R:789:1...  \n",
       "1   source  Error in source(r_file) : Final_Thesis_preproc...  \n",
       "0   source  Error : 'Final_data/percentage_data.csv' does ...  "
      ]
     },
     "execution_count": 8,
     "metadata": {},
     "output_type": "execute_result"
    }
   ],
   "source": [
    "my_df.head()"
   ]
  },
  {
   "cell_type": "code",
   "execution_count": 9,
   "metadata": {},
   "outputs": [
    {
     "data": {
      "text/plain": [
       "0.22530151398511675"
      ]
     },
     "execution_count": 9,
     "metadata": {},
     "output_type": "execute_result"
    }
   ],
   "source": [
    "# look at how many scripts successfully ran\n",
    "np.sum(my_df['error'] == \"success\") / (len(my_df) * 1.0)"
   ]
  },
  {
   "cell_type": "code",
   "execution_count": 12,
   "metadata": {},
   "outputs": [],
   "source": [
    "# helper functions to extract the original file names to allow better grouping\n",
    "def extract_filename(file_string):\n",
    "    return re.sub('_preproc0', '', file_string)\n",
    "\n",
    "def extract_doi(doi_path):\n",
    "    return doi_path.split(\"/\")[-1]\n",
    "\n",
    "def orig_name(row):\n",
    "    return extract_doi(row['doi']) + '/' + extract_filename(row[\"filename\"])\n",
    "\n",
    "# add helpful columns to dataframe to facilitate analysis\n",
    "my_df['is_preproc'] = my_df['filename'].str.contains(\"_preproc0\")\n",
    "my_df[\"orig_file\"] = my_df.apply(orig_name, axis=1)\n",
    "my_df[\"is_library_error\"] = my_df[\"error\"].str.contains(\"library\")"
   ]
  },
  {
   "cell_type": "code",
   "execution_count": 13,
   "metadata": {},
   "outputs": [
    {
     "data": {
      "text/plain": [
       "0.48267898383371827"
      ]
     },
     "execution_count": 13,
     "metadata": {},
     "output_type": "execute_result"
    }
   ],
   "source": [
    "sum(my_df['is_preproc']) / (len(my_df) * 1.0)"
   ]
  },
  {
   "cell_type": "markdown",
   "metadata": {},
   "source": [
    "## Base stats for trying to run the original scripts"
   ]
  },
  {
   "cell_type": "code",
   "execution_count": 16,
   "metadata": {},
   "outputs": [],
   "source": [
    "vanilla_df = my_df[~my_df['is_preproc'] & (my_df['run_type'] == 'source')]"
   ]
  },
  {
   "cell_type": "code",
   "execution_count": 17,
   "metadata": {},
   "outputs": [
    {
     "data": {
      "text/plain": [
       "(1759, 7)"
      ]
     },
     "execution_count": 17,
     "metadata": {},
     "output_type": "execute_result"
    }
   ],
   "source": [
    "vanilla_df.shape"
   ]
  },
  {
   "cell_type": "markdown",
   "metadata": {},
   "source": [
    "Number of errors"
   ]
  },
  {
   "cell_type": "code",
   "execution_count": 132,
   "metadata": {},
   "outputs": [
    {
     "data": {
      "text/plain": [
       "1500"
      ]
     },
     "execution_count": 132,
     "metadata": {},
     "output_type": "execute_result"
    }
   ],
   "source": [
    "np.sum(~(vanilla_df['error'] == \"success\"))"
   ]
  },
  {
   "cell_type": "code",
   "execution_count": 146,
   "metadata": {},
   "outputs": [],
   "source": [
    "# isolate errors in their own dataframe\n",
    "error_vanilla = vanilla_df[~(vanilla_df['error'] == 'success')]"
   ]
  },
  {
   "cell_type": "markdown",
   "metadata": {},
   "source": [
    "Number of library errors"
   ]
  },
  {
   "cell_type": "code",
   "execution_count": 151,
   "metadata": {},
   "outputs": [
    {
     "name": "stderr",
     "output_type": "stream",
     "text": [
      "/usr/local/lib/python2.7/site-packages/pandas/core/indexing.py:517: SettingWithCopyWarning: \n",
      "A value is trying to be set on a copy of a slice from a DataFrame.\n",
      "Try using .loc[row_indexer,col_indexer] = value instead\n",
      "\n",
      "See the caveats in the documentation: http://pandas.pydata.org/pandas-docs/stable/indexing.html#indexing-view-versus-copy\n",
      "  self.obj[item] = s\n"
     ]
    },
    {
     "data": {
      "text/plain": [
       "234"
      ]
     },
     "execution_count": 151,
     "metadata": {},
     "output_type": "execute_result"
    }
   ],
   "source": [
    "error_vanilla.loc[:,'is_library_error'] = error_vanilla['error'].str.contains('library\\(')\n",
    "np.sum(error_vanilla['is_library_error'])"
   ]
  },
  {
   "cell_type": "code",
   "execution_count": 153,
   "metadata": {},
   "outputs": [
    {
     "data": {
      "text/plain": [
       "0.156"
      ]
     },
     "execution_count": 153,
     "metadata": {},
     "output_type": "execute_result"
    }
   ],
   "source": [
    "np.sum(error_vanilla['is_library_error']) / (1500.0)"
   ]
  },
  {
   "cell_type": "markdown",
   "metadata": {},
   "source": [
    "Number of working directory errors"
   ]
  },
  {
   "cell_type": "code",
   "execution_count": 154,
   "metadata": {},
   "outputs": [
    {
     "name": "stderr",
     "output_type": "stream",
     "text": [
      "/usr/local/lib/python2.7/site-packages/ipykernel_launcher.py:1: SettingWithCopyWarning: \n",
      "A value is trying to be set on a copy of a slice from a DataFrame.\n",
      "Try using .loc[row_indexer,col_indexer] = value instead\n",
      "\n",
      "See the caveats in the documentation: http://pandas.pydata.org/pandas-docs/stable/indexing.html#indexing-view-versus-copy\n",
      "  \"\"\"Entry point for launching an IPython kernel.\n"
     ]
    }
   ],
   "source": [
    "error_vanilla['is_wd_error'] = error_vanilla['error'].str.contains('setwd\\(')"
   ]
  },
  {
   "cell_type": "code",
   "execution_count": 155,
   "metadata": {},
   "outputs": [
    {
     "data": {
      "text/plain": [
       "0.28666666666666668"
      ]
     },
     "execution_count": 155,
     "metadata": {},
     "output_type": "execute_result"
    }
   ],
   "source": [
    "np.sum(error_vanilla['is_wd_error']) / (1500.0)"
   ]
  },
  {
   "cell_type": "markdown",
   "metadata": {},
   "source": [
    "File Errors"
   ]
  },
  {
   "cell_type": "code",
   "execution_count": 157,
   "metadata": {},
   "outputs": [
    {
     "name": "stderr",
     "output_type": "stream",
     "text": [
      "/usr/local/lib/python2.7/site-packages/ipykernel_launcher.py:1: SettingWithCopyWarning: \n",
      "A value is trying to be set on a copy of a slice from a DataFrame.\n",
      "Try using .loc[row_indexer,col_indexer] = value instead\n",
      "\n",
      "See the caveats in the documentation: http://pandas.pydata.org/pandas-docs/stable/indexing.html#indexing-view-versus-copy\n",
      "  \"\"\"Entry point for launching an IPython kernel.\n"
     ]
    }
   ],
   "source": [
    "error_vanilla['is_file_error'] = error_vanilla['error'].str.contains('file')"
   ]
  },
  {
   "cell_type": "code",
   "execution_count": 156,
   "metadata": {},
   "outputs": [
    {
     "data": {
      "text/plain": [
       "440"
      ]
     },
     "execution_count": 156,
     "metadata": {},
     "output_type": "execute_result"
    }
   ],
   "source": [
    "np.sum(error_vanilla['error'].str.contains('file'))"
   ]
  },
  {
   "cell_type": "code",
   "execution_count": 159,
   "metadata": {},
   "outputs": [
    {
     "data": {
      "text/plain": [
       "0.29333333333333333"
      ]
     },
     "execution_count": 159,
     "metadata": {},
     "output_type": "execute_result"
    }
   ],
   "source": [
    "np.sum(error_vanilla['is_file_error']) / 1500.0 "
   ]
  },
  {
   "cell_type": "markdown",
   "metadata": {},
   "source": [
    "Using cran without a mirror"
   ]
  },
  {
   "cell_type": "code",
   "execution_count": 160,
   "metadata": {},
   "outputs": [
    {
     "name": "stderr",
     "output_type": "stream",
     "text": [
      "/usr/local/lib/python2.7/site-packages/ipykernel_launcher.py:1: SettingWithCopyWarning: \n",
      "A value is trying to be set on a copy of a slice from a DataFrame.\n",
      "Try using .loc[row_indexer,col_indexer] = value instead\n",
      "\n",
      "See the caveats in the documentation: http://pandas.pydata.org/pandas-docs/stable/indexing.html#indexing-view-versus-copy\n",
      "  \"\"\"Entry point for launching an IPython kernel.\n"
     ]
    }
   ],
   "source": [
    "error_vanilla['is_mirror_error'] = error_vanilla['error'].str.contains('without setting a mirror')"
   ]
  },
  {
   "cell_type": "code",
   "execution_count": 169,
   "metadata": {},
   "outputs": [
    {
     "data": {
      "text/plain": [
       "doi                                rdata_odyc/doi--10.7910-DVN-LYSP42\n",
       "filename                             network-centrality-replication.R\n",
       "run_type                                                       source\n",
       "error               Error in contrib.url(repos, type) : [newline] ...\n",
       "is_preproc                                                      False\n",
       "orig_file           doi--10.7910-DVN-LYSP42/network-centrality-rep...\n",
       "is_library_error                                                False\n",
       "is_wd_error                                                     False\n",
       "is_file_error                                                   False\n",
       "is_mirror_error                                                  True\n",
       "Name: 0, dtype: object"
      ]
     },
     "execution_count": 169,
     "metadata": {},
     "output_type": "execute_result"
    }
   ],
   "source": [
    "error_vanilla[error_vanilla['is_mirror_error']].iloc[3]"
   ]
  },
  {
   "cell_type": "code",
   "execution_count": 170,
   "metadata": {},
   "outputs": [
    {
     "data": {
      "text/plain": [
       "'Error in contrib.url(repos, type) : [newline]  trying to use CRAN without setting a mirror'"
      ]
     },
     "execution_count": 170,
     "metadata": {},
     "output_type": "execute_result"
    }
   ],
   "source": [
    "error_vanilla[error_vanilla['is_mirror_error']].iloc[3]['error']"
   ]
  },
  {
   "cell_type": "code",
   "execution_count": 161,
   "metadata": {},
   "outputs": [
    {
     "data": {
      "text/plain": [
       "0.047333333333333331"
      ]
     },
     "execution_count": 161,
     "metadata": {},
     "output_type": "execute_result"
    }
   ],
   "source": [
    "np.sum(error_vanilla['is_mirror_error']) / 1500.0 "
   ]
  },
  {
   "cell_type": "code",
   "execution_count": 164,
   "metadata": {},
   "outputs": [],
   "source": [
    "error_vanilla[~(error_vanilla['is_mirror_error'] | error_vanilla['is_file_error'] | \n",
    "                error_vanilla['is_library_error'] | error_vanilla['is_wd_error'])].to_csv(\"remaining_errors.csv\", index = False)"
   ]
  },
  {
   "cell_type": "code",
   "execution_count": 175,
   "metadata": {},
   "outputs": [
    {
     "name": "stdout",
     "output_type": "stream",
     "text": [
      "Example.R\n",
      "mc-1.R\n",
      "R_replication_maps_final_Fig1.R\n",
      "network-centrality-replication.R\n",
      "nigeria-replication.R\n",
      "northkorea-replication.R\n",
      "senatepress-replication.R\n",
      "Cebotari&Vink_IJCS2013script.R\n",
      "RR-AJPS-figure-1.R\n",
      "RR-AJPS-figure-2.R\n",
      "RR-AJPS-figure-3.R\n",
      "RR-AJPS-figure-A1.R\n",
      "RR-AJPS-table-2.R\n",
      "RR-AJPS-table-A10-A11.R\n",
      "RR-AJPS-table-A12-A13.R\n",
      "RR-AJPS-table-A14.R\n",
      "RR-AJPS-table-A15.R\n",
      "RR-AJPS-table-A16.R\n",
      "RR-AJPS-table-A17.R\n",
      "RR-AJPS-table-A1.R\n",
      "RR-AJPS-table-A2.R\n",
      "RR-AJPS-table-A3-A9.R\n",
      "Boxplots by Continent.R\n",
      "analysis_replication.R\n",
      "replication_pt2.R\n",
      "Creating Matched Datasets.R\n",
      "Main Results - Figure 2.R\n",
      "Main Results - Table 1.R\n",
      "SM 01 - Six Political Rights.R\n",
      "SM 02 - Total Number of Rights.R\n",
      "SM 05 - Matching Results.R\n",
      "SM 13 - Testing Smaller Sample Sizes.R\n",
      "include_cmp_data.R\n",
      "plot.R\n",
      "Sensitivity Analysis for FIGURE 1_v7.R\n",
      "Sensitivity Analysis for FIGURE 2_v7.R\n",
      "Tables_code for replication.R\n",
      "kuehn_rohlfing_ejpr2016.R\n",
      "bes_analysis.R\n",
      "bes_data_prep.R\n",
      "experiments_analysis.R\n",
      "experiments_data_prep.R\n",
      "Figures.R\n",
      "Tables.R\n",
      "FigA1.R\n",
      "Figure_1_map.R\n",
      "Figure_2_providerssubscribers.R\n",
      "Figure_4_nes.R\n",
      "ROW Validation Checks.R\n",
      "run_all_scripts.R\n",
      "Table1.R\n",
      "Table2.R\n",
      "tablec1.R\n",
      "TableD1D2D3.R\n",
      "tablese3e4.R\n",
      "Terrorism_Replication_1.R\n",
      "Terrorism_Replication_2.R\n",
      "replication.R\n",
      "committees_graphs.R\n",
      "data_gles.R\n",
      "stm_plot_functions.R\n",
      "Estimation_batch.R\n",
      "Estimation_batch.R\n",
      "TD-P_ThielsU.R\n",
      "Appendix_Figure3.R\n",
      "Appendix_Figures1-2.R\n",
      "Appendix_Figures4-5.R\n",
      "Appendix_Tables2-8.R\n",
      "Manuscript_Figure1.R\n",
      "Manuscript_Figure2.R\n",
      "ItPSR_Simulations Fig2.R\n"
     ]
    }
   ],
   "source": [
    "for _, my_row in error_vanilla[error_vanilla['is_mirror_error']].iterrows():\n",
    "    print my_row['filename']"
   ]
  },
  {
   "cell_type": "markdown",
   "metadata": {},
   "source": [
    "## Did preprocessing the files help them run?"
   ]
  },
  {
   "cell_type": "markdown",
   "metadata": {},
   "source": [
    "Proportion of preprocessed files which ran:"
   ]
  },
  {
   "cell_type": "code",
   "execution_count": 213,
   "metadata": {},
   "outputs": [
    {
     "data": {
      "text/plain": [
       "0.19670388091440724"
      ]
     },
     "execution_count": 213,
     "metadata": {},
     "output_type": "execute_result"
    }
   ],
   "source": [
    "np.sum((my_df['is_preproc']) & (my_df[\"error\"] == \"success\")) / (np.sum(my_df['is_preproc']) * 1.0)"
   ]
  },
  {
   "cell_type": "code",
   "execution_count": 193,
   "metadata": {},
   "outputs": [
    {
     "data": {
      "text/plain": [
       "370"
      ]
     },
     "execution_count": 193,
     "metadata": {},
     "output_type": "execute_result"
    }
   ],
   "source": [
    "np.sum((my_df['is_preproc']) & (my_df[\"error\"] == \"success\"))"
   ]
  },
  {
   "cell_type": "code",
   "execution_count": 210,
   "metadata": {},
   "outputs": [
    {
     "data": {
      "text/plain": [
       "188"
      ]
     },
     "execution_count": 210,
     "metadata": {},
     "output_type": "execute_result"
    }
   ],
   "source": [
    "np.sum(my_df['is_preproc'] & ~(my_df['run_type'] == 'source'))"
   ]
  },
  {
   "cell_type": "code",
   "execution_count": 211,
   "metadata": {},
   "outputs": [
    {
     "data": {
      "text/plain": [
       "257"
      ]
     },
     "execution_count": 211,
     "metadata": {},
     "output_type": "execute_result"
    }
   ],
   "source": [
    "np.sum(~my_df['is_preproc'] & ~(my_df['run_type'] == 'source'))"
   ]
  },
  {
   "cell_type": "markdown",
   "metadata": {},
   "source": [
    "Proportion of non-preprocessed files which ran:"
   ]
  },
  {
   "cell_type": "code",
   "execution_count": 212,
   "metadata": {},
   "outputs": [
    {
     "data": {
      "text/plain": [
       "0.25198412698412698"
      ]
     },
     "execution_count": 212,
     "metadata": {},
     "output_type": "execute_result"
    }
   ],
   "source": [
    "np.sum(~(my_df['is_preproc']) & (my_df[\"error\"] == \"success\")) / (np.sum(~my_df['is_preproc']) * 1.0)"
   ]
  },
  {
   "cell_type": "code",
   "execution_count": 195,
   "metadata": {},
   "outputs": [
    {
     "data": {
      "text/plain": [
       "508"
      ]
     },
     "execution_count": 195,
     "metadata": {},
     "output_type": "execute_result"
    }
   ],
   "source": [
    "np.sum((~my_df['is_preproc']) & (my_df[\"error\"] == \"success\"))"
   ]
  },
  {
   "cell_type": "markdown",
   "metadata": {},
   "source": [
    "Yes, but only in a few of the cases."
   ]
  },
  {
   "cell_type": "markdown",
   "metadata": {},
   "source": [
    "## Did preprocessing the files resolve library errors?"
   ]
  },
  {
   "cell_type": "code",
   "execution_count": 196,
   "metadata": {},
   "outputs": [
    {
     "data": {
      "text/plain": [
       "20"
      ]
     },
     "execution_count": 196,
     "metadata": {},
     "output_type": "execute_result"
    }
   ],
   "source": [
    "np.sum((my_df['is_preproc']) & (my_df[\"error\"].str.contains(\"library\")))"
   ]
  },
  {
   "cell_type": "code",
   "execution_count": 197,
   "metadata": {},
   "outputs": [
    {
     "data": {
      "text/plain": [
       "236"
      ]
     },
     "execution_count": 197,
     "metadata": {},
     "output_type": "execute_result"
    }
   ],
   "source": [
    "np.sum((~my_df['is_preproc']) & (my_df[\"error\"].str.contains(\"library\")))"
   ]
  },
  {
   "cell_type": "code",
   "execution_count": 198,
   "metadata": {},
   "outputs": [],
   "source": [
    "# get list of files where the original had a library error\n",
    "lib_error_files = my_df[(~my_df['is_preproc']) & (my_df[\"error\"].str.contains(\"library\"))\\\n",
    "                        & (my_df['run_type'] == 'source')]['orig_file']\n",
    "# get run data for those files\n",
    "my_df_lib_error = my_df[(my_df['run_type'] == 'source') & my_df['orig_file'].isin(lib_error_files)]"
   ]
  },
  {
   "cell_type": "code",
   "execution_count": 199,
   "metadata": {},
   "outputs": [
    {
     "data": {
      "text/plain": [
       "236"
      ]
     },
     "execution_count": 199,
     "metadata": {},
     "output_type": "execute_result"
    }
   ],
   "source": [
    "np.sum(~(my_df_lib_error['is_preproc']))"
   ]
  },
  {
   "cell_type": "code",
   "execution_count": 200,
   "metadata": {},
   "outputs": [
    {
     "data": {
      "text/plain": [
       "9"
      ]
     },
     "execution_count": 200,
     "metadata": {},
     "output_type": "execute_result"
    }
   ],
   "source": [
    "np.sum(my_df_lib_error['is_preproc'] & my_df_lib_error['is_library_error'])"
   ]
  },
  {
   "cell_type": "markdown",
   "metadata": {},
   "source": [
    "Yes, it appears that library errors were avoided in 237 of 243 cases!"
   ]
  },
  {
   "cell_type": "code",
   "execution_count": 201,
   "metadata": {},
   "outputs": [
    {
     "data": {
      "text/html": [
       "<div>\n",
       "<style>\n",
       "    .dataframe thead tr:only-child th {\n",
       "        text-align: right;\n",
       "    }\n",
       "\n",
       "    .dataframe thead th {\n",
       "        text-align: left;\n",
       "    }\n",
       "\n",
       "    .dataframe tbody tr th {\n",
       "        vertical-align: top;\n",
       "    }\n",
       "</style>\n",
       "<table border=\"1\" class=\"dataframe\">\n",
       "  <thead>\n",
       "    <tr style=\"text-align: right;\">\n",
       "      <th></th>\n",
       "      <th>doi</th>\n",
       "      <th>filename</th>\n",
       "      <th>run_type</th>\n",
       "      <th>error</th>\n",
       "      <th>is_preproc</th>\n",
       "      <th>orig_file</th>\n",
       "      <th>is_library_error</th>\n",
       "    </tr>\n",
       "  </thead>\n",
       "  <tbody>\n",
       "    <tr>\n",
       "      <th>3</th>\n",
       "      <td>rdata_odyc/doi--10.7910-DVN-TDSJHE</td>\n",
       "      <td>Millerfigure_preproc0.R</td>\n",
       "      <td>source</td>\n",
       "      <td>Error in library(plotrix, lib.loc = F:/R/R-2.1...</td>\n",
       "      <td>True</td>\n",
       "      <td>doi--10.7910-DVN-TDSJHE/Millerfigure.R</td>\n",
       "      <td>True</td>\n",
       "    </tr>\n",
       "    <tr>\n",
       "      <th>4</th>\n",
       "      <td>rdata_odyc/doi--10.7910-DVN-TDSJHE</td>\n",
       "      <td>Nelson_mturk_figure_preproc0.R</td>\n",
       "      <td>source</td>\n",
       "      <td>Error in library(plotrix, lib.loc = F:/R/R-2.1...</td>\n",
       "      <td>True</td>\n",
       "      <td>doi--10.7910-DVN-TDSJHE/Nelson_mturk_figure.R</td>\n",
       "      <td>True</td>\n",
       "    </tr>\n",
       "    <tr>\n",
       "      <th>5</th>\n",
       "      <td>rdata_odyc/doi--10.7910-DVN-TDSJHE</td>\n",
       "      <td>rubio_mturk_figure_preproc0.R</td>\n",
       "      <td>source</td>\n",
       "      <td>Error in library(plotrix, lib.loc = F:/R/R-2.1...</td>\n",
       "      <td>True</td>\n",
       "      <td>doi--10.7910-DVN-TDSJHE/rubio_mturk_figure.R</td>\n",
       "      <td>True</td>\n",
       "    </tr>\n",
       "    <tr>\n",
       "      <th>1</th>\n",
       "      <td>rdata_odyc/doi--10.7910-DVN-NO90AJ</td>\n",
       "      <td>Lupu-Selios-Warner-EMD-code_preproc0.R</td>\n",
       "      <td>source</td>\n",
       "      <td>Error in source(r_file) : [newline]  Lupu-Seli...</td>\n",
       "      <td>True</td>\n",
       "      <td>doi--10.7910-DVN-NO90AJ/Lupu-Selios-Warner-EMD...</td>\n",
       "      <td>True</td>\n",
       "    </tr>\n",
       "    <tr>\n",
       "      <th>1</th>\n",
       "      <td>rdata_odyc/doi--10.7910-DVN-1GHCOT</td>\n",
       "      <td>EP and Volatility Replication_preproc0.R</td>\n",
       "      <td>source</td>\n",
       "      <td>Error in library(rstan, lib.loc = ~/R/win-libr...</td>\n",
       "      <td>True</td>\n",
       "      <td>doi--10.7910-DVN-1GHCOT/EP and Volatility Repl...</td>\n",
       "      <td>True</td>\n",
       "    </tr>\n",
       "    <tr>\n",
       "      <th>1</th>\n",
       "      <td>rdata_odyc/doi--10.7910-DVN-JLKTEE</td>\n",
       "      <td>KopralevaVink_EFAR2015_reanalysis csQCA fsQCA_...</td>\n",
       "      <td>source</td>\n",
       "      <td>Error in library(QCA, lib.loc = /Library/Frame...</td>\n",
       "      <td>True</td>\n",
       "      <td>doi--10.7910-DVN-JLKTEE/KopralevaVink_EFAR2015...</td>\n",
       "      <td>True</td>\n",
       "    </tr>\n",
       "    <tr>\n",
       "      <th>4</th>\n",
       "      <td>rdata_odyc/doi--10.7910-DVN-FYJ6YT</td>\n",
       "      <td>space_answers_preproc0.R</td>\n",
       "      <td>source</td>\n",
       "      <td>Error in library(reshape, lib.loc = /Library/F...</td>\n",
       "      <td>True</td>\n",
       "      <td>doi--10.7910-DVN-FYJ6YT/space_answers.R</td>\n",
       "      <td>True</td>\n",
       "    </tr>\n",
       "    <tr>\n",
       "      <th>6</th>\n",
       "      <td>rdata_odyc/doi--10.7910-DVN-FYJ6YT</td>\n",
       "      <td>time_answers_preproc0.R</td>\n",
       "      <td>source</td>\n",
       "      <td>Error in library(robustHD, lib.loc = /Library/...</td>\n",
       "      <td>True</td>\n",
       "      <td>doi--10.7910-DVN-FYJ6YT/time_answers.R</td>\n",
       "      <td>True</td>\n",
       "    </tr>\n",
       "    <tr>\n",
       "      <th>7</th>\n",
       "      <td>rdata_odyc/doi--10.7910-DVN-FYJ6YT</td>\n",
       "      <td>time_RT_preproc0.R</td>\n",
       "      <td>source</td>\n",
       "      <td>Error in library(robustHD, lib.loc = /Library/...</td>\n",
       "      <td>True</td>\n",
       "      <td>doi--10.7910-DVN-FYJ6YT/time_RT.R</td>\n",
       "      <td>True</td>\n",
       "    </tr>\n",
       "  </tbody>\n",
       "</table>\n",
       "</div>"
      ],
      "text/plain": [
       "                                  doi  \\\n",
       "3  rdata_odyc/doi--10.7910-DVN-TDSJHE   \n",
       "4  rdata_odyc/doi--10.7910-DVN-TDSJHE   \n",
       "5  rdata_odyc/doi--10.7910-DVN-TDSJHE   \n",
       "1  rdata_odyc/doi--10.7910-DVN-NO90AJ   \n",
       "1  rdata_odyc/doi--10.7910-DVN-1GHCOT   \n",
       "1  rdata_odyc/doi--10.7910-DVN-JLKTEE   \n",
       "4  rdata_odyc/doi--10.7910-DVN-FYJ6YT   \n",
       "6  rdata_odyc/doi--10.7910-DVN-FYJ6YT   \n",
       "7  rdata_odyc/doi--10.7910-DVN-FYJ6YT   \n",
       "\n",
       "                                            filename run_type  \\\n",
       "3                            Millerfigure_preproc0.R   source   \n",
       "4                     Nelson_mturk_figure_preproc0.R   source   \n",
       "5                      rubio_mturk_figure_preproc0.R   source   \n",
       "1             Lupu-Selios-Warner-EMD-code_preproc0.R   source   \n",
       "1           EP and Volatility Replication_preproc0.R   source   \n",
       "1  KopralevaVink_EFAR2015_reanalysis csQCA fsQCA_...   source   \n",
       "4                           space_answers_preproc0.R   source   \n",
       "6                            time_answers_preproc0.R   source   \n",
       "7                                 time_RT_preproc0.R   source   \n",
       "\n",
       "                                               error  is_preproc  \\\n",
       "3  Error in library(plotrix, lib.loc = F:/R/R-2.1...        True   \n",
       "4  Error in library(plotrix, lib.loc = F:/R/R-2.1...        True   \n",
       "5  Error in library(plotrix, lib.loc = F:/R/R-2.1...        True   \n",
       "1  Error in source(r_file) : [newline]  Lupu-Seli...        True   \n",
       "1  Error in library(rstan, lib.loc = ~/R/win-libr...        True   \n",
       "1  Error in library(QCA, lib.loc = /Library/Frame...        True   \n",
       "4  Error in library(reshape, lib.loc = /Library/F...        True   \n",
       "6  Error in library(robustHD, lib.loc = /Library/...        True   \n",
       "7  Error in library(robustHD, lib.loc = /Library/...        True   \n",
       "\n",
       "                                           orig_file  is_library_error  \n",
       "3             doi--10.7910-DVN-TDSJHE/Millerfigure.R              True  \n",
       "4      doi--10.7910-DVN-TDSJHE/Nelson_mturk_figure.R              True  \n",
       "5       doi--10.7910-DVN-TDSJHE/rubio_mturk_figure.R              True  \n",
       "1  doi--10.7910-DVN-NO90AJ/Lupu-Selios-Warner-EMD...              True  \n",
       "1  doi--10.7910-DVN-1GHCOT/EP and Volatility Repl...              True  \n",
       "1  doi--10.7910-DVN-JLKTEE/KopralevaVink_EFAR2015...              True  \n",
       "4            doi--10.7910-DVN-FYJ6YT/space_answers.R              True  \n",
       "6             doi--10.7910-DVN-FYJ6YT/time_answers.R              True  \n",
       "7                  doi--10.7910-DVN-FYJ6YT/time_RT.R              True  "
      ]
     },
     "execution_count": 201,
     "metadata": {},
     "output_type": "execute_result"
    }
   ],
   "source": [
    "my_df_lib_error[(my_df_lib_error['is_preproc'] & my_df_lib_error['is_library_error'])]"
   ]
  },
  {
   "cell_type": "markdown",
   "metadata": {},
   "source": [
    "## Did ProvR run without errors anytime source ran without errors?"
   ]
  },
  {
   "cell_type": "code",
   "execution_count": 202,
   "metadata": {},
   "outputs": [],
   "source": [
    "# files that ran without errors\n",
    "successful_runs = my_df[my_df['error'] == \"success\"]"
   ]
  },
  {
   "cell_type": "code",
   "execution_count": 203,
   "metadata": {},
   "outputs": [
    {
     "data": {
      "text/plain": [
       "449"
      ]
     },
     "execution_count": 203,
     "metadata": {},
     "output_type": "execute_result"
    }
   ],
   "source": [
    "np.sum(successful_runs['run_type'] == \"source\")"
   ]
  },
  {
   "cell_type": "code",
   "execution_count": 204,
   "metadata": {},
   "outputs": [
    {
     "data": {
      "text/plain": [
       "429"
      ]
     },
     "execution_count": 204,
     "metadata": {},
     "output_type": "execute_result"
    }
   ],
   "source": [
    "np.sum(successful_runs['run_type'] == \"provR\")"
   ]
  },
  {
   "cell_type": "markdown",
   "metadata": {},
   "source": [
    "`ProvR` worked most of the time but failed to complete in about 20 cases."
   ]
  },
  {
   "cell_type": "code",
   "execution_count": 205,
   "metadata": {},
   "outputs": [],
   "source": [
    "my_df[~(my_df['error'] == \"success\") & (my_df['run_type'] == 'provR')].to_csv(\"provr_errors.csv\", index=False)"
   ]
  },
  {
   "cell_type": "markdown",
   "metadata": {},
   "source": [
    "## Examining preprocessed library errors"
   ]
  },
  {
   "cell_type": "code",
   "execution_count": null,
   "metadata": {},
   "outputs": [],
   "source": [
    "# get list of files where the original had a library error\n",
    "lib_error_files = my_df[(~my_df['is_preproc']) & (my_df[\"error\"].str.contains(\"library\"))\\\n",
    "                        & (my_df['run_type'] == 'source')]['orig_file']\n",
    "# get run data for those files\n",
    "my_df_lib_error = my_df[(my_df['run_type'] == 'source') & my_df['orig_file'].isin(lib_error_files)]"
   ]
  },
  {
   "cell_type": "code",
   "execution_count": 206,
   "metadata": {},
   "outputs": [],
   "source": [
    "# get list of files where the preprocessed had an error\n",
    "success_unpreproc = my_df[~(my_df['is_preproc']) &\\\n",
    "                          (my_df[\"error\"] == \"success\") &\\\n",
    "                          (my_df['run_type'] == 'source')]['orig_file']\n",
    "# get run data for those files\n",
    "my_df_preproc_error = my_df[my_df['orig_file'].isin(success_unpreproc) &\\\n",
    "                            (my_df['run_type'] == 'source')]"
   ]
  },
  {
   "cell_type": "code",
   "execution_count": 207,
   "metadata": {},
   "outputs": [
    {
     "data": {
      "text/plain": [
       "232"
      ]
     },
     "execution_count": 207,
     "metadata": {},
     "output_type": "execute_result"
    }
   ],
   "source": [
    "np.sum(my_df_preproc_error['is_preproc'])"
   ]
  },
  {
   "cell_type": "code",
   "execution_count": 208,
   "metadata": {},
   "outputs": [
    {
     "data": {
      "text/plain": [
       "259"
      ]
     },
     "execution_count": 208,
     "metadata": {},
     "output_type": "execute_result"
    }
   ],
   "source": [
    "np.sum(~my_df_preproc_error['is_preproc'])"
   ]
  },
  {
   "cell_type": "code",
   "execution_count": 209,
   "metadata": {
    "scrolled": false
   },
   "outputs": [],
   "source": [
    "no_orig_error = my_df_preproc_error[(my_df_preproc_error['is_preproc']) &\\\n",
    "                                    ~(my_df_preproc_error['error'] == 'success')]['orig_file']\n",
    "my_df_preproc_error[my_df_preproc_error['orig_file'].isin(no_orig_error)].to_csv('preproc_failure.csv')"
   ]
  }
 ],
 "metadata": {
  "kernelspec": {
   "display_name": "Python 2",
   "language": "python",
   "name": "python2"
  },
  "language_info": {
   "codemirror_mode": {
    "name": "ipython",
    "version": 2
   },
   "file_extension": ".py",
   "mimetype": "text/x-python",
   "name": "python",
   "nbconvert_exporter": "python",
   "pygments_lexer": "ipython2",
   "version": "2.7.13"
  }
 },
 "nbformat": 4,
 "nbformat_minor": 2
}
