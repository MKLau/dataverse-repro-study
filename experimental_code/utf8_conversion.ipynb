{
 "cells": [
  {
   "cell_type": "code",
   "execution_count": 12,
   "metadata": {},
   "outputs": [],
   "source": [
    "import os\n",
    "import codecs\n",
    "import chardet\n",
    "import shutil\n",
    "\n",
    "from collections import Counter\n",
    "from tqdm import tqdm as tqdm\n",
    "import pandas as pd\n",
    "import numpy as np"
   ]
  },
  {
   "cell_type": "code",
   "execution_count": 14,
   "metadata": {},
   "outputs": [],
   "source": [
    "orig_formats = Counter()\n",
    "removed = []"
   ]
  },
  {
   "cell_type": "code",
   "execution_count": 15,
   "metadata": {},
   "outputs": [],
   "source": [
    "\"\"\"\n",
    "The following block of file decoding functions are heavily-modified versions of \n",
    "Sebastian RoccoSerra's answer on this Stack Overflow post:\n",
    "https://stackoverflow.com/questions/191359/how-to-convert-a-file-to-utf-8-in-python\n",
    "(block ends with a series of # marks)\n",
    "\"\"\"\n",
    "def get_encoding_type(current_file):\n",
    "    detectee = open(current_file, 'rb').read()\n",
    "    result = chardet.detect(detectee)\n",
    "    return result['encoding']\n",
    "\n",
    "def writeConversion(sourceFh, sourceFile, outputDir, targetFormat):\n",
    "    if not os.path.exists(outputDir):\n",
    "        os.makedirs(outputDir)\n",
    "    with codecs.open(outputDir + '/' + sourceFile, 'w', targetFormat) as targetFile:\n",
    "        for line in sourceFh:\n",
    "            targetFile.write(line)\n",
    "\n",
    "def convertFileWithDetection(sourceDir, sourceFile, outputDir, targetFormat, replace=False,\n",
    "                             logs=False):\n",
    "    if logs:\n",
    "        print(\"Converting '\" + sourceFile + \"'...\")\n",
    "    sourcePath = os.path.join(sourceDir, sourceFile)\n",
    "    if replace:\n",
    "        os.rename(os.path.join(sourceDir, sourceFile),\n",
    "                  os.path.join(sourceDir, \"__orig__\" + sourceFile))\n",
    "        sourcePath = os.path.join(sourceDir,  \"__orig__\" + sourceFile)\n",
    "\n",
    "    sourceFormat = get_encoding_type(sourcePath)\n",
    "    \n",
    "    if sourceFormat != targetFormat:\n",
    "        orig_formats[sourceDir] += 1\n",
    "        \n",
    "    try:\n",
    "        with codecs.open(sourcePath, 'rU', sourceFormat) as sourceFh:\n",
    "            writeConversion(sourceFh, sourceFile, outputDir, targetFormat)\n",
    "            if logs:\n",
    "                print('Done.')\n",
    "        if replace:\n",
    "            os.remove(sourcePath)\n",
    "        return\n",
    "    except UnicodeDecodeError:\n",
    "        pass\n",
    "    \n",
    "    print(\"Error: failed to convert \" + sourceFile + \". Removing...\")\n",
    "    shutil.rmtree(sourceDir)\n",
    "    removed.append(sourceDir)\n",
    "\n",
    "def convertFileBestGuess(filename):\n",
    "    sourceFormats = ['ascii', 'iso-8859-1']\n",
    "    for format in sourceFormats:\n",
    "        try:\n",
    "            with codecs.open(sourceFile, 'rU', format) as sourceFile:\n",
    "                writeConversion(sourceFile)\n",
    "                print('Done.')\n",
    "                return\n",
    "        except UnicodeDecodeError:\n",
    "            pass\n",
    "\"\"\"\n",
    "End of file decoding function block from Stack Overflow\n",
    "\"\"\"\n",
    "def convert_r_files(path, replace=False, output_path=''):\n",
    "    \"\"\"Convert all R files to utf-8 in the directory pointed to by path\n",
    "    Parameters\n",
    "    ----------\n",
    "    path : string\n",
    "           path to the directory containing R scripts\n",
    "    output_path : string \n",
    "                  relative path from \"path\" parameter to directory\n",
    "                  to place converted files\n",
    "    replace : bool\n",
    "              whether to replace original files with converted ones\n",
    "    \"\"\"\n",
    "    targetFormat = 'utf-8'\n",
    "    # calculate correct output \n",
    "    output_path = 'converted' if not output_path else output_path\n",
    "    outputDir = path if replace else os.path.join(path, output_path)\n",
    "    orig_files = [my_file for my_file in os.listdir(path) if\\\n",
    "                  my_file.endswith(\".R\") or my_file.endswith(\".r\")]\n",
    "    for my_file in orig_files:\n",
    "        convertFileWithDetection(path, my_file, outputDir, 'utf-8', replace)"
   ]
  },
  {
   "cell_type": "code",
   "execution_count": 16,
   "metadata": {},
   "outputs": [
    {
     "name": "stderr",
     "output_type": "stream",
     "text": [
      "  7%|▋         | 45/609 [00:01<00:19, 29.47it/s]"
     ]
    },
    {
     "name": "stdout",
     "output_type": "stream",
     "text": [
      "Error: failed to convert power-analysis.R. Removing...\n"
     ]
    },
    {
     "name": "stderr",
     "output_type": "stream",
     "text": [
      " 57%|█████▋    | 346/609 [00:22<00:17, 15.08it/s]"
     ]
    },
    {
     "name": "stdout",
     "output_type": "stream",
     "text": [
      "Error: failed to convert lik.R. Removing...\n"
     ]
    },
    {
     "name": "stderr",
     "output_type": "stream",
     "text": [
      "100%|██████████| 609/609 [00:47<00:00, 12.91it/s]\n"
     ]
    }
   ],
   "source": [
    "dois = os.listdir(\"../dataverse_data\")\n",
    "for index in tqdm(range(len(dois))):\n",
    "    doi = dois[index]\n",
    "    if doi != '.DS_Store':\n",
    "        convert_r_files(os.path.join(\"../dataverse_data\", doi), replace=True)"
   ]
  },
  {
   "cell_type": "code",
   "execution_count": 17,
   "metadata": {},
   "outputs": [
    {
     "data": {
      "text/plain": [
       "['../dataverse_data/doi--10.7910-DVN-IYAX3D',\n",
       " '../dataverse_data/doi--10.7910-DVN-SSEZKB']"
      ]
     },
     "execution_count": 17,
     "metadata": {},
     "output_type": "execute_result"
    }
   ],
   "source": [
    "removed"
   ]
  },
  {
   "cell_type": "code",
   "execution_count": 19,
   "metadata": {},
   "outputs": [
    {
     "data": {
      "text/plain": [
       "567"
      ]
     },
     "execution_count": 19,
     "metadata": {},
     "output_type": "execute_result"
    }
   ],
   "source": [
    "len(orig_formats.keys())"
   ]
  },
  {
   "cell_type": "code",
   "execution_count": null,
   "metadata": {},
   "outputs": [],
   "source": [
    "convert_r_files"
   ]
  }
 ],
 "metadata": {
  "kernelspec": {
   "display_name": "Python 3",
   "language": "python",
   "name": "python3"
  },
  "language_info": {
   "codemirror_mode": {
    "name": "ipython",
    "version": 3
   },
   "file_extension": ".py",
   "mimetype": "text/x-python",
   "name": "python",
   "nbconvert_exporter": "python",
   "pygments_lexer": "ipython3",
   "version": "3.6.4"
  }
 },
 "nbformat": 4,
 "nbformat_minor": 2
}
