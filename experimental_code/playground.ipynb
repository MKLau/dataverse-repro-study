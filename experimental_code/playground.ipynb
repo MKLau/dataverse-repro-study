{
 "cells": [
  {
   "cell_type": "code",
   "execution_count": 2,
   "metadata": {},
   "outputs": [],
   "source": [
    "from helpers import *"
   ]
  },
  {
   "cell_type": "code",
   "execution_count": 1,
   "metadata": {},
   "outputs": [],
   "source": [
    "import os"
   ]
  },
  {
   "cell_type": "code",
   "execution_count": 7,
   "metadata": {},
   "outputs": [
    {
     "data": {
      "text/plain": [
       "(                                  doi                            filename  \\\n",
       " 0   r_datasets/doi--10.7910-DVN-26905                        altKrigCRF.R   \n",
       " 1   r_datasets/doi--10.7910-DVN-26905                        altKrigCRF.R   \n",
       " 2   r_datasets/doi--10.7910-DVN-26905                  dataManipulation.R   \n",
       " 3   r_datasets/doi--10.7910-DVN-26905                    lower48control.R   \n",
       " 4   r_datasets/doi--10.7910-DVN-26905           powerPlantsManipulation.R   \n",
       " 5   r_datasets/doi--10.7910-DVN-26905                  powerPlantsModel.R   \n",
       " 6   r_datasets/doi--10.7910-DVN-26905               altKrigCRF_preproc0.R   \n",
       " 7   r_datasets/doi--10.7910-DVN-26905               altKrigCRF_preproc0.R   \n",
       " 8   r_datasets/doi--10.7910-DVN-26905         dataManipulation_preproc0.R   \n",
       " 9   r_datasets/doi--10.7910-DVN-26905           lower48control_preproc0.R   \n",
       " 10  r_datasets/doi--10.7910-DVN-26905  powerPlantsManipulation_preproc0.R   \n",
       " 11  r_datasets/doi--10.7910-DVN-26905         powerPlantsModel_preproc0.R   \n",
       " 12  r_datasets/doi--10.7910-DVN-26905         powerPlantsModel_preproc0.R   \n",
       " \n",
       "    run_type                                              error  \n",
       " 0    source                                            success  \n",
       " 1     provR                                            success  \n",
       " 2    source  Error in library(rgdal) : there is no package ...  \n",
       " 3    source  Error in library(rgdal) : there is no package ...  \n",
       " 4    source  Error in setwd(/Volumes/MONOGAN/polluterPlacem...  \n",
       " 5    source  Error in library(rgdal) : there is no package ...  \n",
       " 6    source                                            success  \n",
       " 7     provR                                            success  \n",
       " 8    source  Error in read.dta(tri_emissions2010.dta) : [ne...  \n",
       " 9    source  Error in file(file, rt) : cannot open the conn...  \n",
       " 10   source  Error in setwd(/Volumes/MONOGAN/polluterPlacem...  \n",
       " 11   source                                            success  \n",
       " 12    provR                                            success  , [])"
      ]
     },
     "execution_count": 7,
     "metadata": {},
     "output_type": "execute_result"
    }
   ],
   "source": [
    "get_runlog_data(\"testing\")"
   ]
  },
  {
   "cell_type": "code",
   "execution_count": 2,
   "metadata": {},
   "outputs": [],
   "source": [
    "import pickle"
   ]
  },
  {
   "cell_type": "code",
   "execution_count": 12,
   "metadata": {},
   "outputs": [],
   "source": [
    "with open('missing_files.pkl', 'rb') as handle:\n",
    "    my_pickle = pickle.load(handle)"
   ]
  },
  {
   "cell_type": "code",
   "execution_count": 13,
   "metadata": {},
   "outputs": [
    {
     "data": {
      "text/plain": [
       "{'doi--10.7910-DVN-26905': ['countyDensity.csv',\n",
       "  'egrid_allplants.dta',\n",
       "  'majorAirAllDist.csv',\n",
       "  'tri_emissions2010.dta',\n",
       "  'new_public.dta',\n",
       "  'tsdfs.dta'],\n",
       " 'doi--10.7910-DVN-QKP9EJ': ['data7.dta',\n",
       "  'Y_synthetic_nonannual_cov_only.txt',\n",
       "  'federal_referendums_1900_1970_covariates_wide.dta',\n",
       "  'Y_treated_nonannual.txt',\n",
       "  'data8.dta',\n",
       "  'W_weights.txt',\n",
       "  'Y_treated_placebotime_nonannual.txt',\n",
       "  'data2a.dta',\n",
       "  'W_weights_nonannual.txt',\n",
       "  'Y_treated_nonannual_cov_only.txt',\n",
       "  'data1.dta',\n",
       "  'W_reg2.txt',\n",
       "  'Y_synthetic_nonannual.txt',\n",
       "  'Y_synthetic_placebotime_nonannual.txt',\n",
       "  'data2b.dta']}"
      ]
     },
     "execution_count": 13,
     "metadata": {},
     "output_type": "execute_result"
    }
   ],
   "source": [
    "my_pickle"
   ]
  },
  {
   "cell_type": "code",
   "execution_count": null,
   "metadata": {},
   "outputs": [],
   "source": []
  }
 ],
 "metadata": {
  "kernelspec": {
   "display_name": "Python 2",
   "language": "python",
   "name": "python2"
  },
  "language_info": {
   "codemirror_mode": {
    "name": "ipython",
    "version": 2
   },
   "file_extension": ".py",
   "mimetype": "text/x-python",
   "name": "python",
   "nbconvert_exporter": "python",
   "pygments_lexer": "ipython2",
   "version": "2.7.13"
  }
 },
 "nbformat": 4,
 "nbformat_minor": 2
}
