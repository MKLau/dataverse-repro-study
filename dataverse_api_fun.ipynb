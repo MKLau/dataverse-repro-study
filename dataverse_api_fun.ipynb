{
 "cells": [
  {
   "cell_type": "code",
   "execution_count": 24,
   "metadata": {},
   "outputs": [],
   "source": [
    "import requests\n",
    "import json"
   ]
  },
  {
   "cell_type": "code",
   "execution_count": 25,
   "metadata": {},
   "outputs": [],
   "source": [
    "response = requests.get(\"https://apitest.dataverse.org/api/search\", \n",
    "                        params={\"type\": \"file\", \"q\": \"\",\n",
    "                                \"key\": \"670994aa-dbf5-4240-a3a6-74cca05a9f07\"})"
   ]
  },
  {
   "cell_type": "code",
   "execution_count": 26,
   "metadata": {},
   "outputs": [
    {
     "name": "stdout",
     "output_type": "stream",
     "text": [
      "{\"status\":\"OK\",\"data\":{\"q\":\"\",\"total_count\":0,\"start\":0,\"spelling_alternatives\":{},\"items\":[],\"count_in_response\":0}}\n"
     ]
    }
   ],
   "source": [
    "print response.content"
   ]
  },
  {
   "cell_type": "code",
   "execution_count": 14,
   "metadata": {},
   "outputs": [],
   "source": [
    "import urllib2\n",
    "import json\n",
    "base = 'https://apitest.dataverse.org'\n",
    "rows = 10\n",
    "start = 0\n",
    "page = 1\n",
    "url = base + '/api/search?q=*' + \"&start=\" + str(start)\n",
    "data = json.load(urllib2.urlopen(url))\n",
    "total = data['data']['total_count']"
   ]
  },
  {
   "cell_type": "code",
   "execution_count": 15,
   "metadata": {},
   "outputs": [
    {
     "data": {
      "text/plain": [
       "{u'data': {u'count_in_response': 0,\n",
       "  u'items': [],\n",
       "  u'q': u'*',\n",
       "  u'spelling_alternatives': {},\n",
       "  u'start': 0,\n",
       "  u'total_count': 0},\n",
       " u'status': u'OK'}"
      ]
     },
     "execution_count": 15,
     "metadata": {},
     "output_type": "execute_result"
    }
   ],
   "source": [
    "data"
   ]
  }
 ],
 "metadata": {
  "kernelspec": {
   "display_name": "Python 2",
   "language": "python",
   "name": "python2"
  },
  "language_info": {
   "codemirror_mode": {
    "name": "ipython",
    "version": 2
   },
   "file_extension": ".py",
   "mimetype": "text/x-python",
   "name": "python",
   "nbconvert_exporter": "python",
   "pygments_lexer": "ipython2",
   "version": "2.7.13"
  }
 },
 "nbformat": 4,
 "nbformat_minor": 2
}
